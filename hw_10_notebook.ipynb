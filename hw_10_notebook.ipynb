{
  "cells": [
    {
      "cell_type": "markdown",
      "metadata": {
        "id": "view-in-github",
        "colab_type": "text"
      },
      "source": [
        "<a href=\"https://colab.research.google.com/github/atg1996/AUA_ML_python/blob/main/hw_10_notebook.ipynb\" target=\"_parent\"><img src=\"https://colab.research.google.com/assets/colab-badge.svg\" alt=\"Open In Colab\"/></a>"
      ]
    },
    {
      "cell_type": "markdown",
      "metadata": {
        "id": "5f_yuJkZIoc-"
      },
      "source": [
        "# Programming task 10: Dimensionality Reduction"
      ]
    },
    {
      "cell_type": "code",
      "execution_count": 1,
      "metadata": {
        "collapsed": true,
        "id": "uHVRvQ6-IodA"
      },
      "outputs": [],
      "source": [
        "import numpy as np\n",
        "import matplotlib.pyplot as plt\n",
        "\n",
        "%matplotlib inline"
      ]
    },
    {
      "cell_type": "markdown",
      "metadata": {
        "id": "IEYyAwNFIodA"
      },
      "source": [
        "##  PCA"
      ]
    },
    {
      "cell_type": "markdown",
      "metadata": {
        "id": "1phA-ruHIodA"
      },
      "source": [
        "Given the data in the matrix X your tasks is to:\n",
        "* Calculate the covariance matrix $\\Sigma$.\n",
        "* Calculate eigenvalues and eigenvectors of $\\Sigma$.\n",
        "* Plot the original data $X$ and the eigenvectors to a single diagram. What do you observe? Which eigenvector corresponds to the smallest eigenvalue?\n",
        "* Determine the smallest eigenvalue and remove its corresponding eigenvector. The remaining eigenvector is the basis of a new subspace.\n",
        "* Transform all vectors in X in this new subspace by expressing all vectors in X in this new basis.\t"
      ]
    },
    {
      "cell_type": "markdown",
      "metadata": {
        "id": "bWMhwILjIodB"
      },
      "source": [
        "### The given data X"
      ]
    },
    {
      "cell_type": "code",
      "execution_count": 2,
      "metadata": {
        "collapsed": true,
        "id": "qonnLDHLIodB"
      },
      "outputs": [],
      "source": [
        "X = np.array([(-3,-2),(-2,-1),(-1,0),(0,1),\n",
        "              (1,2),(2,3),(-2,-2),(-1,-1),\n",
        "              (0,0),(1,1),(2,2), (-2,-3),\n",
        "              (-1,-2),(0,-1),(1,0), (2,1),(3,2)])"
      ]
    },
    {
      "cell_type": "markdown",
      "metadata": {
        "id": "RdPFMinzIodB"
      },
      "source": [
        "### Task 1: Calculate the covariance matrix $\\Sigma$"
      ]
    },
    {
      "cell_type": "code",
      "execution_count": 3,
      "metadata": {
        "collapsed": true,
        "id": "6IIc4KznIodB"
      },
      "outputs": [],
      "source": [
        "def get_covariance(X):\n",
        "    \"\"\"Calculates the covariance matrix of the input data.\n",
        "    \n",
        "    Parameters\n",
        "    ----------\n",
        "    X : array, shape [N, D]\n",
        "        Data matrix.\n",
        "        \n",
        "    Returns\n",
        "    -------\n",
        "    Sigma : array, shape [D, D]\n",
        "        Covariance matrix\n",
        "        \n",
        "    \"\"\"\n",
        "    # TODO\n",
        "    Sigma = np.cov(X.T)\n",
        "    \n",
        "    assert Sigma.shape == (X.shape[1], X.shape[1])\n",
        "    \n",
        "    # TODO\n",
        "    return Sigma"
      ]
    },
    {
      "cell_type": "markdown",
      "metadata": {
        "id": "btAE8lrZIodC"
      },
      "source": [
        "### Task 2: Calculate eigenvalues and eigenvectors of  $\\Sigma$."
      ]
    },
    {
      "cell_type": "code",
      "execution_count": 4,
      "metadata": {
        "collapsed": true,
        "id": "yaQX_8HOIodC"
      },
      "outputs": [],
      "source": [
        "def get_eigen(S):\n",
        "    \"\"\"Calculates the eigenvalues and eigenvectors of the input matrix.\n",
        "    \n",
        "    Parameters\n",
        "    ----------\n",
        "    S : array, shape [D, D]\n",
        "        Square symmetric positive definite matrix.\n",
        "        \n",
        "    Returns\n",
        "    -------\n",
        "    L : array, shape [D]\n",
        "        Eigenvalues of S\n",
        "    U : array, shape [D, D]\n",
        "        Eigenvectors of S\n",
        "    \n",
        "    \"\"\"\n",
        "    # TODO\n",
        "    L, U = np.linalg.eigh(S)\n",
        "    \n",
        "    assert L.shape == (S.shape[0],)\n",
        "    assert U.shape == (S.shape[0], S.shape[0])\n",
        "\n",
        "    # TODO\n",
        "    return L,U"
      ]
    },
    {
      "cell_type": "markdown",
      "metadata": {
        "id": "dYWqLVHnIodC"
      },
      "source": [
        "### Task 3: Plot the original data X and the eigenvectors to a single diagram.\n",
        "\n",
        "Note that, in general if $u_i$ is an eigenvector of the matrix $M$ with eigenvalue $\\lambda_i$ then $\\alpha \\cdot u_i$ is also an eigenvector of $M$ with the same eigenvalue $\\lambda_i$, where $\\alpha$ is an arbitrary scalar (including $\\alpha=-1$). \n",
        "\n",
        "Thus, the signs of the eigenvectors are arbitrary, and you can flip them without changing the meaning of the result. Only their direction matters. The particular result depends on the algorithm used to find them. "
      ]
    },
    {
      "cell_type": "code",
      "execution_count": 5,
      "metadata": {
        "colab": {
          "base_uri": "https://localhost:8080/",
          "height": 447
        },
        "id": "AIeZjbLSIodC",
        "outputId": "c447d995-a397-45bc-e6b2-fac99f6f12ed"
      },
      "outputs": [
        {
          "output_type": "execute_result",
          "data": {
            "text/plain": [
              "<matplotlib.patches.FancyArrow at 0x7f3eded512b0>"
            ]
          },
          "metadata": {},
          "execution_count": 5
        },
        {
          "output_type": "display_data",
          "data": {
            "text/plain": [
              "<Figure size 640x480 with 1 Axes>"
            ],
            "image/png": "[encoded data removed]"
          },
          "metadata": {}
        }
      ],
      "source": [
        "# plot the original data\n",
        "plt.scatter(X[:, 0], X[:, 1])\n",
        "\n",
        "# plot the mean of the data\n",
        "mean_d1, mean_d2 = X.mean(0)\n",
        "plt.plot(mean_d1, mean_d2, 'o', markersize=10, color='red', alpha=0.5)\n",
        "\n",
        "# calculate the covariance matrix\n",
        "Sigma = get_covariance(X)\n",
        "# calculate the eigenvector and eigenvalues of Sigma\n",
        "L, U = get_eigen(Sigma)\n",
        "\n",
        "plt.arrow(mean_d1, mean_d2, U[0, 0], U[1, 0], width=0.01, color='red', alpha=0.5)\n",
        "plt.arrow(mean_d1, mean_d2, U[0, 1], U[1, 1], width=0.01, color='red', alpha=0.5)"
      ]
    },
    {
      "cell_type": "markdown",
      "metadata": {
        "id": "_bjCBxXGIodD"
      },
      "source": [
        "What do you observe in the above plot? Which eigenvector corresponds to the smallest eigenvalue?\n",
        "\n",
        "Write your answer here:\n",
        "\n",
        "[YOUR ANSWER]"
      ]
    },
    {
      "cell_type": "markdown",
      "metadata": {
        "id": "WS9_JM5IIodE"
      },
      "source": [
        "### Task 4: Transform the data"
      ]
    },
    {
      "cell_type": "markdown",
      "source": [],
      "metadata": {
        "id": "P38iHrs0MZnq"
      }
    },
    {
      "cell_type": "markdown",
      "metadata": {
        "id": "7WXHjmD1IodE"
      },
      "source": [
        "Determine the smallest eigenvalue and remove its corresponding eigenvector. The remaining eigenvector is the basis of a new subspace. Transform all vectors in X in this new subspace by expressing all vectors in X in this new basis."
      ]
    },
    {
      "cell_type": "code",
      "execution_count": 6,
      "metadata": {
        "collapsed": true,
        "id": "4ACROh6NIodE"
      },
      "outputs": [],
      "source": [
        "def transform(X, U, L):\n",
        "    \"\"\"Transforms the data in the new subspace spanned by the eigenvector corresponding to the largest eigenvalue.\n",
        "    \n",
        "    Parameters\n",
        "    ----------\n",
        "    X : array, shape [N, D]\n",
        "        Data matrix.\n",
        "    L : array, shape [D]\n",
        "        Eigenvalues of Sigma_X\n",
        "    U : array, shape [D, D]\n",
        "        Eigenvectors of Sigma_X\n",
        "        \n",
        "    Returns\n",
        "    -------\n",
        "    X_t : array, shape [N, 1]\n",
        "        Transformed data\n",
        "        \n",
        "    \"\"\"\n",
        "    # TODO\n",
        "    W = U[:, -1]\n",
        "    X_t = np.dot(X, W)\n",
        "    \n",
        "    assert X_t.shape == (X.shape[0],)\n",
        "    \n",
        "    # TODO\n",
        "    return X_t"
      ]
    },
    {
      "cell_type": "code",
      "execution_count": null,
      "metadata": {
        "id": "c6e6GiU8IodE"
      },
      "outputs": [],
      "source": [
        "X_t = transform(X, U, L)"
      ]
    },
    {
      "cell_type": "markdown",
      "metadata": {
        "id": "_yX2g5PgIodF"
      },
      "source": [
        "##  SVD"
      ]
    },
    {
      "cell_type": "markdown",
      "metadata": {
        "id": "nfjem1tfIodF"
      },
      "source": [
        "### Task 5: Given the matrix $M$ find its SVD decomposition $M= U \\cdot \\Sigma \\cdot V$ and reduce it to one dimension using the approach described in the lecture."
      ]
    },
    {
      "cell_type": "code",
      "execution_count": 7,
      "metadata": {
        "collapsed": true,
        "id": "iMi_YlNjIodF"
      },
      "outputs": [],
      "source": [
        "M = np.array([[1, 2], [6, 3],[0, 2]])"
      ]
    },
    {
      "cell_type": "code",
      "execution_count": 18,
      "metadata": {
        "collapsed": true,
        "id": "qN579oCWIodF"
      },
      "outputs": [],
      "source": [
        "def reduce_to_one_dimension(M):\n",
        "    \"\"\"Reduces the input matrix to one dimension using its SVD decomposition.\n",
        "    \n",
        "    Parameters\n",
        "    ----------\n",
        "    M : array, shape [N, D]\n",
        "        Input matrix.\n",
        "        \n",
        "    Returns\n",
        "    -------\n",
        "    M_t: array, shape [N, 1]\n",
        "        Reduce matrix.\n",
        "    \n",
        "    \"\"\"\n",
        "  \n",
        "    U, sigma, V = np.linalg.svd(M)\n",
        "    \n",
        "\n",
        "    trunc_sigma = np.zeros((M.shape[0], M.shape[1]))\n",
        "    trunc_sigma[0, 0] = sigma[0]\n",
        "    \n",
        "\n",
        "    M_t = M @ V[:, 0]\n",
        "    \n",
        "    assert M_t.shape == (M.shape[0],)\n",
        "    \n",
        "    return M_t"
      ]
    },
    {
      "cell_type": "code",
      "execution_count": 19,
      "metadata": {
        "colab": {
          "base_uri": "https://localhost:8080/"
        },
        "id": "9LA9wx87IodF",
        "outputId": "1b18b1b0-7869-45bc-8eb4-d2cab847cf1c"
      },
      "outputs": [
        {
          "output_type": "stream",
          "name": "stdout",
          "text": [
            "[-1.90211303 -6.68109819 -1.05146222]\n"
          ]
        }
      ],
      "source": [
        "M_t = reduce_to_one_dimension(M)\n",
        "print(M_t)"
      ]
    },
    {
      "cell_type": "code",
      "execution_count": null,
      "metadata": {
        "id": "dl7oGeO8IodG"
      },
      "outputs": [],
      "source": []
    }
  ],
  "metadata": {
    "anaconda-cloud": {},
    "kernelspec": {
      "display_name": "Python 3 (ipykernel)",
      "language": "python",
      "name": "python3"
    },
    "language_info": {
      "codemirror_mode": {
        "name": "ipython",
        "version": 3
      },
      "file_extension": ".py",
      "mimetype": "text/x-python",
      "name": "python",
      "nbconvert_exporter": "python",
      "pygments_lexer": "ipython3",
      "version": "3.9.6"
    },
    "toc": {
      "colors": {
        "hover_highlight": "#DAA520",
        "navigate_num": "#000000",
        "navigate_text": "#333333",
        "running_highlight": "#FF0000",
        "selected_highlight": "#FFD700",
        "sidebar_border": "#EEEEEE",
        "wrapper_background": "#FFFFFF"
      },
      "moveMenuLeft": true,
      "nav_menu": {
        "height": "48px",
        "width": "252px"
      },
      "navigate_menu": true,
      "number_sections": true,
      "sideBar": true,
      "threshold": 4,
      "toc_cell": false,
      "toc_section_display": "block",
      "toc_window_display": false,
      "widenNotebook": false
    },
    "colab": {
      "provenance": [],
      "include_colab_link": true
    }
  },
  "nbformat": 4,
  "nbformat_minor": 0
}