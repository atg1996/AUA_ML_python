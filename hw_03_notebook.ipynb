{
  "cells": [
    {
      "cell_type": "markdown",
      "metadata": {
        "id": "view-in-github",
        "colab_type": "text"
      },
      "source": [
        "<a href=\"https://colab.research.google.com/github/atg1996/python-tasks/blob/main/hw_03_notebook.ipynb\" target=\"_parent\"><img src=\"https://colab.research.google.com/assets/colab-badge.svg\" alt=\"Open In Colab\"/></a>"
      ]
    },
    {
      "cell_type": "markdown",
      "metadata": {
        "id": "2eN1NF2Ir_fz"
      },
      "source": [
        "# Programming assignment 3: Probabilistic Inference"
      ]
    },
    {
      "cell_type": "code",
      "execution_count": 1,
      "metadata": {
        "id": "nco35m7fr_f1"
      },
      "outputs": [],
      "source": [
        "import numpy as np\n",
        "import matplotlib.pyplot as plt\n",
        "\n",
        "from scipy.special import loggamma\n",
        "%matplotlib inline  "
      ]
    },
    {
      "cell_type": "markdown",
      "metadata": {
        "id": "4Ay69Efmr_f1"
      },
      "source": [
        "## Your task\n",
        "This notebook contains code implementing the methods discussed in `Lecture 3: Probabilistic Inference`. Some functions in this notebook are incomplete. Your task is to fill in the missing code and run the entire notebook. \n",
        "\n",
        "In the beginning of every function there is docstring, which specifies the format of input and output. Write your code in a way that adheres to it.\n",
        "You may only use plain python and `numpy` functions (i.e. no scikit-learn classifiers)."
      ]
    },
    {
      "cell_type": "markdown",
      "metadata": {
        "id": "jT9tCPDDr_f2"
      },
      "source": [
        "## Simulating data\n",
        "The following function simulates flipping a biased coin. "
      ]
    },
    {
      "cell_type": "code",
      "execution_count": 2,
      "metadata": {
        "id": "ukIazzQLr_f2"
      },
      "outputs": [],
      "source": [
        "# This function is given, nothing to do here.\n",
        "def simulate_data(num_samples, tails_proba):\n",
        "    \"\"\"Simulate a sequence of i.i.d. coin flips.\n",
        "    \n",
        "    Tails are denoted as 1 and heads are denoted as 0.\n",
        "    \n",
        "    Parameters\n",
        "    ----------\n",
        "    num_samples : int\n",
        "        Number of samples to generate.\n",
        "    tails_proba : float in range (0, 1)\n",
        "        Probability of observing tails.\n",
        "    \n",
        "    Returns\n",
        "    -------\n",
        "    samples : array, shape (num_samples)\n",
        "        Outcomes of simulated coin flips. Tails is 1 and heads is 0.\n",
        "    \"\"\"\n",
        "    return np.random.choice([0, 1], size=(num_samples), p=[1 - tails_proba, tails_proba])"
      ]
    },
    {
      "cell_type": "code",
      "execution_count": 3,
      "metadata": {
        "colab": {
          "base_uri": "https://localhost:8080/"
        },
        "id": "zaCQ0ASir_f2",
        "outputId": "57dec086-1d48-44b0-b431-402a7325bf0f"
      },
      "outputs": [
        {
          "output_type": "stream",
          "name": "stdout",
          "text": [
            "[1 0 0 1 1 1 1 1 1 1 1 1 1 0 1 1 0 0 1 1]\n"
          ]
        }
      ],
      "source": [
        "np.random.seed(123)  # for reproducibility\n",
        "num_samples = 20\n",
        "tails_proba = 0.7\n",
        "samples = simulate_data(num_samples, tails_proba)\n",
        "print(samples)"
      ]
    },
    {
      "cell_type": "markdown",
      "metadata": {
        "id": "T3ROFyoHr_f3"
      },
      "source": [
        "# Important: Numerical stability\n",
        "When dealing with probabilities, we often encounter extremely small numbers. Because of limited floating point precision, directly manipulating such small numbers can lead to serious numerical issues, such as overflows and underflows. Therefore, we usually work in the **log-space**.\n",
        "\n",
        "For example, if we want to multiply two tiny numbers $a$ and $b$, we should compute $\\exp(\\log(a) + \\log(b))$ instead of naively multiplying $a \\cdot b$.\n",
        "\n",
        "For this reason, we usually compute **log-probabilities** instead of **probabilities**. Virtually all machine learning libraries are dealing with log-probabilities instead of probabilities (e.g. [Tensorflow-probability](https://www.tensorflow.org/probability) or [Pyro](https://pyro.ai))."
      ]
    },
    {
      "cell_type": "markdown",
      "metadata": {
        "id": "2ZkbLmgDr_f3"
      },
      "source": [
        "## Task 1: Compute $\\log p(\\mathcal{D} \\mid \\theta)$ for different values of $\\theta$"
      ]
    },
    {
      "cell_type": "code",
      "execution_count": 4,
      "metadata": {
        "id": "KacRitXjr_f3"
      },
      "outputs": [],
      "source": [
        "def compute_log_likelihood(theta, samples):\n",
        "    \"\"\"Compute log p(D | theta) for the given values of theta.\n",
        "    \n",
        "    Parameters\n",
        "    ----------\n",
        "    theta : array, shape (num_points)\n",
        "        Values of theta for which it's necessary to evaluate the log-likelihood.\n",
        "    samples : array, shape (num_samples)\n",
        "        Outcomes of simulated coin flips. Tails is 1 and heads is 0.\n",
        "    \n",
        "    Returns\n",
        "    -------\n",
        "    log_likelihood : array, shape (num_points)\n",
        "        Values of log-likelihood for each value in theta.\n",
        "    \"\"\"\n",
        "\n",
        "    # log_likelihood = np.sum(samples * np.log(theta) + (1 - samples) * np.log(1 - theta), axis=1)\n",
        "\n",
        "    # return log_likelihood\n",
        "\n",
        "\n",
        "    n_tails = np.sum(samples == 1)\n",
        "    n_heads = len(samples) - n_tails\n",
        "\n",
        "    log_likelihood = n_tails * np.log(theta) + n_heads * np.log(1 - theta)\n",
        "    \n",
        "    return log_likelihood"
      ]
    },
    {
      "cell_type": "code",
      "execution_count": 5,
      "metadata": {
        "colab": {
          "base_uri": "https://localhost:8080/",
          "height": 293
        },
        "id": "_6zCjWW-r_f4",
        "outputId": "f8ef71d0-2239-4073-b509-6d4aa7f22d06"
      },
      "outputs": [
        {
          "output_type": "execute_result",
          "data": {
            "text/plain": [
              "<matplotlib.legend.Legend at 0x7f8c6140bd90>"
            ]
          },
          "metadata": {},
          "execution_count": 5
        },
        {
          "output_type": "display_data",
          "data": {
            "text/plain": [
              "<Figure size 432x288 with 1 Axes>"
            ],
            "image/png": "[encoded data removed]"
          },
          "metadata": {
            "needs_background": "light"
          }
        }
      ],
      "source": [
        "x = np.linspace(1e-5, 1-1e-5, 1000)\n",
        "log_likelihood = compute_log_likelihood(x, samples)\n",
        "\n",
        "likelihood = np.exp(log_likelihood)\n",
        "plt.plot(x, likelihood, label='likelihood', c='purple')\n",
        "plt.legend()"
      ]
    },
    {
      "cell_type": "markdown",
      "metadata": {
        "id": "rxEp0TP5r_f4"
      },
      "source": [
        "Note that the likelihood function doesn't define a probability distribution over $\\theta$ --- the integral $\\int_{0}^{1} p(\\mathcal{D} \\mid \\theta) d\\theta$ is not equal to one.\n",
        "\n",
        "To show this, we approximate $\\int_{0}^{1} p(\\mathcal{D} \\mid \\theta) d\\theta$ numerically using [the rectangle rule](https://en.wikipedia.org/wiki/Riemann_sum)."
      ]
    },
    {
      "cell_type": "code",
      "execution_count": 6,
      "metadata": {
        "colab": {
          "base_uri": "https://localhost:8080/"
        },
        "id": "eQaHcwUZr_f4",
        "outputId": "50e8379c-b050-42b7-841d-e6263bddcc46"
      },
      "outputs": [
        {
          "output_type": "stream",
          "name": "stdout",
          "text": [
            "Integral = 3.068e-06\n"
          ]
        }
      ],
      "source": [
        "# 1.0 is the length of the interval over which we are integrating p(D | theta)\n",
        "int_likelihood = 1.0 * np.mean(likelihood)\n",
        "print(f'Integral = {int_likelihood:.4}')"
      ]
    },
    {
      "cell_type": "markdown",
      "metadata": {
        "id": "gdhA2zAjr_f4"
      },
      "source": [
        "## Task 2: Compute $\\log p(\\theta \\mid a, b)$ for different values of $\\theta$\n",
        "The function `loggamma` from the `scipy.special` package might be useful here. (It's already imported - see the first cell)"
      ]
    },
    {
      "cell_type": "code",
      "execution_count": 7,
      "metadata": {
        "id": "pmdd9y_or_f4"
      },
      "outputs": [],
      "source": [
        "def compute_log_prior(theta, a, b):\n",
        "    \"\"\"Compute log p(theta | a, b) for the given values of theta.\n",
        "    \n",
        "    Parameters\n",
        "    ----------\n",
        "    theta : array, shape (num_points)\n",
        "        Values of theta for which it's necessary to evaluate the log-prior.\n",
        "    a, b: float\n",
        "        Parameters of the prior Beta distribution.\n",
        "    \n",
        "    Returns\n",
        "    -------\n",
        "    log_prior : array, shape (num_points)\n",
        "        Values of log-prior for each value in theta.\n",
        "    \n",
        "    \"\"\"\n",
        "    ### YOUR CODE HERE ###\n",
        "    log_prior = loggamma(a + b) - loggamma(a) - loggamma(b) + (a - 1) * np.log(theta) + (b - 1) * np.log(1 - theta)\n",
        "    return log_prior"
      ]
    },
    {
      "cell_type": "code",
      "execution_count": 8,
      "metadata": {
        "colab": {
          "base_uri": "https://localhost:8080/",
          "height": 282
        },
        "id": "jbhYGUpBr_f5",
        "outputId": "d3bc4cf8-7e1f-48ee-84d9-6238f7b9a08e"
      },
      "outputs": [
        {
          "output_type": "execute_result",
          "data": {
            "text/plain": [
              "<matplotlib.legend.Legend at 0x7f8c898f8820>"
            ]
          },
          "metadata": {},
          "execution_count": 8
        },
        {
          "output_type": "display_data",
          "data": {
            "text/plain": [
              "<Figure size 432x288 with 1 Axes>"
            ],
            "image/png": "[encoded data removed]"
          },
          "metadata": {
            "needs_background": "light"
          }
        }
      ],
      "source": [
        "x = np.linspace(1e-5, 1-1e-5, 1000)\n",
        "a, b = 3, 5\n",
        "\n",
        "# Plot the prior distribution\n",
        "log_prior = compute_log_prior(x, a, b)\n",
        "prior = np.exp(log_prior)\n",
        "plt.plot(x, prior, label='prior')\n",
        "plt.legend()"
      ]
    },
    {
      "cell_type": "markdown",
      "metadata": {
        "id": "Zn6VDHX2r_f5"
      },
      "source": [
        "Unlike the likelihood, the prior defines a probability distribution over $\\theta$ and integrates to 1."
      ]
    },
    {
      "cell_type": "code",
      "execution_count": 9,
      "metadata": {
        "scrolled": true,
        "colab": {
          "base_uri": "https://localhost:8080/"
        },
        "id": "vDi5uMTgr_f5",
        "outputId": "e38364f8-1ddb-424e-baec-126bbd1eb247"
      },
      "outputs": [
        {
          "output_type": "stream",
          "name": "stdout",
          "text": [
            "Integral = 0.999\n"
          ]
        }
      ],
      "source": [
        "int_prior = 1.0 * np.mean(prior)\n",
        "print(f'Integral = {int_prior:.4}')"
      ]
    },
    {
      "cell_type": "markdown",
      "metadata": {
        "id": "mMWW0AHBr_f5"
      },
      "source": [
        "## Task 3: Compute $\\log p(\\theta \\mid \\mathcal{D}, a, b)$ for different values of $\\theta$\n",
        "The function `loggamma` from the `scipy.special` package might be useful here."
      ]
    },
    {
      "cell_type": "code",
      "execution_count": 10,
      "metadata": {
        "id": "rlgMXWe4r_f5"
      },
      "outputs": [],
      "source": [
        "def compute_log_posterior(theta, samples, a, b):\n",
        "    \"\"\"Compute log p(theta | D, a, b) for the given values of theta.\n",
        "    \n",
        "    Parameters\n",
        "    ----------\n",
        "    theta : array, shape (num_points)\n",
        "        Values of theta for which it's necessary to evaluate the log-prior.\n",
        "    samples : array, shape (num_samples)\n",
        "        Outcomes of simulated coin flips. Tails is 1 and heads is 0.\n",
        "    a, b: float\n",
        "        Parameters of the prior Beta distribution.\n",
        "    \n",
        "    Returns\n",
        "    -------\n",
        "    log_posterior : array, shape (num_points)\n",
        "        Values of log-posterior for each value in theta.\n",
        "    \"\"\"\n",
        "    # log_prior = compute_log_prior(theta, a, b)\n",
        "    # log_likelihood = compute_log_likelihood(theta, samples)\n",
        "\n",
        "    # # Compute log p(theta | D, a, b) up to a constant using Bayes' rule\n",
        "    # log_posterior = log_likelihood + log_prior\n",
        "\n",
        "    # # Normalize log-posterior to get log-p(theta | D, a, b) as a probability distribution\n",
        "    # log_posterior -= np.max(log_posterior)  # Subtract the log of the maximum value to avoid numerical issues\n",
        "    # log_posterior -= np.log(np.sum(np.exp(log_posterior)))  # Take the log-sum-exp to normalize\n",
        "\n",
        "    # return log_posterior\n",
        "\n",
        "    log_likelihood = compute_log_likelihood(theta, samples)\n",
        "    log_prior = compute_log_prior(theta, a, b)\n",
        "\n",
        "    likelihood = np.exp(log_likelihood)\n",
        "    prior = np.exp(log_prior)\n",
        "\n",
        "    value = log_likelihood + compute_log_prior(theta, a, b) - np.log(np.sum( likelihood * prior )/ len(theta) )\n",
        "    return value "
      ]
    },
    {
      "cell_type": "code",
      "execution_count": 11,
      "metadata": {
        "colab": {
          "base_uri": "https://localhost:8080/",
          "height": 282
        },
        "id": "Zq7TR01_r_f5",
        "outputId": "ef98ffcc-aea6-4a2c-f730-29f30beb70eb"
      },
      "outputs": [
        {
          "output_type": "execute_result",
          "data": {
            "text/plain": [
              "<matplotlib.legend.Legend at 0x7f8c60e73850>"
            ]
          },
          "metadata": {},
          "execution_count": 11
        },
        {
          "output_type": "display_data",
          "data": {
            "text/plain": [
              "<Figure size 432x288 with 1 Axes>"
            ],
            "image/png": "[encoded data removed]"
          },
          "metadata": {
            "needs_background": "light"
          }
        }
      ],
      "source": [
        "x = np.linspace(1e-5, 1-1e-5, 1000)\n",
        "\n",
        "log_posterior = compute_log_posterior(x, samples, a, b)\n",
        "posterior = np.exp(log_posterior)\n",
        "plt.plot(x, posterior, label='posterior', c='orange')\n",
        "plt.legend()"
      ]
    },
    {
      "cell_type": "markdown",
      "metadata": {
        "id": "TbcrLYEir_f6"
      },
      "source": [
        "Like the prior, the posterior defines a probability distribution over $\\theta$ and integrates to 1."
      ]
    },
    {
      "cell_type": "code",
      "execution_count": 12,
      "metadata": {
        "colab": {
          "base_uri": "https://localhost:8080/"
        },
        "id": "W5uHbqTcr_f6",
        "outputId": "be6ab435-acfd-4205-aa6d-9812e531a4b8"
      },
      "outputs": [
        {
          "output_type": "stream",
          "name": "stdout",
          "text": [
            "Integral = 1.0\n"
          ]
        }
      ],
      "source": [
        "int_posterior = 1.0 * np.mean(posterior)\n",
        "print(f'Integral = {int_posterior:.4}')"
      ]
    },
    {
      "cell_type": "markdown",
      "metadata": {
        "id": "9tF-zD3xr_f6"
      },
      "source": [
        "## Task 4: Compute $\\theta_{MLE}$"
      ]
    },
    {
      "cell_type": "code",
      "execution_count": 20,
      "metadata": {
        "id": "UZItGeKar_f6"
      },
      "outputs": [],
      "source": [
        "def compute_theta_mle(samples):\n",
        "    \"\"\"Compute theta_MLE for the given data.\n",
        "    \n",
        "    Parameters\n",
        "    ----------\n",
        "    samples : array, shape (num_samples)\n",
        "        Outcomes of simulated coin flips. Tails is 1 and heads is 0.\n",
        "    \n",
        "    Returns\n",
        "    -------\n",
        "    theta_mle : float\n",
        "        Maximum likelihood estimate of theta.\n",
        "    \"\"\"\n",
        "    # # Define the negative log-likelihood function\n",
        "    # def log_likelihood(theta):\n",
        "    #     p = np.power(theta, np.sum(samples)) * np.power(1 - theta, len(samples) - np.sum(samples))\n",
        "    #     return np.log(p)\n",
        "    \n",
        "    # eps = 1e-8\n",
        "    # grad = (log_likelihood(1 - eps) - log_likelihood(eps)) / (2 * eps)\n",
        "    # theta_mle = 1 / (1 + np.exp(-grad))\n",
        "    \n",
        "    # return theta_mle\n",
        "\n",
        "    thetas_x = np.linspace(1e-5, 1-1e-5, 1000)\n",
        "    value_x = compute_log_likelihood(thetas_x, samples)\n",
        "    print(thetas_x)\n",
        "    print(\"----------------\")\n",
        "    print(value_x)\n",
        "    print(np.argmax(value_x))\n",
        "\n",
        "    print(thetas_x[np.argmax(value_x)])\n",
        "\n",
        "    ### YOUR CODE HERE ###\n",
        "    return (np.argmax(value_x)+1) / len(thetas_x)"
      ]
    },
    {
      "cell_type": "code",
      "execution_count": 21,
      "metadata": {
        "colab": {
          "base_uri": "https://localhost:8080/"
        },
        "id": "LUoPF4HNr_f6",
        "outputId": "af9637a0-19e9-4944-b656-26100ab78ed1"
      },
      "outputs": [
        {
          "output_type": "stream",
          "name": "stdout",
          "text": [
            "[1.00000000e-05 1.01098098e-03 2.01196196e-03 3.01294294e-03\n",
            " 4.01392392e-03 5.01490490e-03 6.01588589e-03 7.01686687e-03\n",
            " 8.01784785e-03 9.01882883e-03 1.00198098e-02 1.10207908e-02\n",
            " 1.20217718e-02 1.30227528e-02 1.40237337e-02 1.50247147e-02\n",
            " 1.60256957e-02 1.70266767e-02 1.80276577e-02 1.90286386e-02\n",
            " 2.00296196e-02 2.10306006e-02 2.20315816e-02 2.30325626e-02\n",
            " 2.40335435e-02 2.50345245e-02 2.60355055e-02 2.70364865e-02\n",
            " 2.80374675e-02 2.90384484e-02 3.00394294e-02 3.10404104e-02\n",
            " 3.20413914e-02 3.30423724e-02 3.40433534e-02 3.50443343e-02\n",
            " 3.60453153e-02 3.70462963e-02 3.80472773e-02 3.90482583e-02\n",
            " 4.00492392e-02 4.10502202e-02 4.20512012e-02 4.30521822e-02\n",
            " 4.40531632e-02 4.50541441e-02 4.60551251e-02 4.70561061e-02\n",
            " 4.80570871e-02 4.90580681e-02 5.00590490e-02 5.10600300e-02\n",
            " 5.20610110e-02 5.30619920e-02 5.40629730e-02 5.50639540e-02\n",
            " 5.60649349e-02 5.70659159e-02 5.80668969e-02 5.90678779e-02\n",
            " 6.00688589e-02 6.10698398e-02 6.20708208e-02 6.30718018e-02\n",
            " 6.40727828e-02 6.50737638e-02 6.60747447e-02 6.70757257e-02\n",
            " 6.80767067e-02 6.90776877e-02 7.00786687e-02 7.10796496e-02\n",
            " 7.20806306e-02 7.30816116e-02 7.40825926e-02 7.50835736e-02\n",
            " 7.60845546e-02 7.70855355e-02 7.80865165e-02 7.90874975e-02\n",
            " 8.00884785e-02 8.10894595e-02 8.20904404e-02 8.30914214e-02\n",
            " 8.40924024e-02 8.50933834e-02 8.60943644e-02 8.70953453e-02\n",
            " 8.80963263e-02 8.90973073e-02 9.00982883e-02 9.10992693e-02\n",
            " 9.21002503e-02 9.31012312e-02 9.41022122e-02 9.51031932e-02\n",
            " 9.61041742e-02 9.71051552e-02 9.81061361e-02 9.91071171e-02\n",
            " 1.00108098e-01 1.01109079e-01 1.02110060e-01 1.03111041e-01\n",
            " 1.04112022e-01 1.05113003e-01 1.06113984e-01 1.07114965e-01\n",
            " 1.08115946e-01 1.09116927e-01 1.10117908e-01 1.11118889e-01\n",
            " 1.12119870e-01 1.13120851e-01 1.14121832e-01 1.15122813e-01\n",
            " 1.16123794e-01 1.17124775e-01 1.18125756e-01 1.19126737e-01\n",
            " 1.20127718e-01 1.21128699e-01 1.22129680e-01 1.23130661e-01\n",
            " 1.24131642e-01 1.25132623e-01 1.26133604e-01 1.27134585e-01\n",
            " 1.28135566e-01 1.29136547e-01 1.30137528e-01 1.31138509e-01\n",
            " 1.32139489e-01 1.33140470e-01 1.34141451e-01 1.35142432e-01\n",
            " 1.36143413e-01 1.37144394e-01 1.38145375e-01 1.39146356e-01\n",
            " 1.40147337e-01 1.41148318e-01 1.42149299e-01 1.43150280e-01\n",
            " 1.44151261e-01 1.45152242e-01 1.46153223e-01 1.47154204e-01\n",
            " 1.48155185e-01 1.49156166e-01 1.50157147e-01 1.51158128e-01\n",
            " 1.52159109e-01 1.53160090e-01 1.54161071e-01 1.55162052e-01\n",
            " 1.56163033e-01 1.57164014e-01 1.58164995e-01 1.59165976e-01\n",
            " 1.60166957e-01 1.61167938e-01 1.62168919e-01 1.63169900e-01\n",
            " 1.64170881e-01 1.65171862e-01 1.66172843e-01 1.67173824e-01\n",
            " 1.68174805e-01 1.69175786e-01 1.70176767e-01 1.71177748e-01\n",
            " 1.72178729e-01 1.73179710e-01 1.74180691e-01 1.75181672e-01\n",
            " 1.76182653e-01 1.77183634e-01 1.78184615e-01 1.79185596e-01\n",
            " 1.80186577e-01 1.81187558e-01 1.82188539e-01 1.83189520e-01\n",
            " 1.84190501e-01 1.85191481e-01 1.86192462e-01 1.87193443e-01\n",
            " 1.88194424e-01 1.89195405e-01 1.90196386e-01 1.91197367e-01\n",
            " 1.92198348e-01 1.93199329e-01 1.94200310e-01 1.95201291e-01\n",
            " 1.96202272e-01 1.97203253e-01 1.98204234e-01 1.99205215e-01\n",
            " 2.00206196e-01 2.01207177e-01 2.02208158e-01 2.03209139e-01\n",
            " 2.04210120e-01 2.05211101e-01 2.06212082e-01 2.07213063e-01\n",
            " 2.08214044e-01 2.09215025e-01 2.10216006e-01 2.11216987e-01\n",
            " 2.12217968e-01 2.13218949e-01 2.14219930e-01 2.15220911e-01\n",
            " 2.16221892e-01 2.17222873e-01 2.18223854e-01 2.19224835e-01\n",
            " 2.20225816e-01 2.21226797e-01 2.22227778e-01 2.23228759e-01\n",
            " 2.24229740e-01 2.25230721e-01 2.26231702e-01 2.27232683e-01\n",
            " 2.28233664e-01 2.29234645e-01 2.30235626e-01 2.31236607e-01\n",
            " 2.32237588e-01 2.33238569e-01 2.34239550e-01 2.35240531e-01\n",
            " 2.36241512e-01 2.37242492e-01 2.38243473e-01 2.39244454e-01\n",
            " 2.40245435e-01 2.41246416e-01 2.42247397e-01 2.43248378e-01\n",
            " 2.44249359e-01 2.45250340e-01 2.46251321e-01 2.47252302e-01\n",
            " 2.48253283e-01 2.49254264e-01 2.50255245e-01 2.51256226e-01\n",
            " 2.52257207e-01 2.53258188e-01 2.54259169e-01 2.55260150e-01\n",
            " 2.56261131e-01 2.57262112e-01 2.58263093e-01 2.59264074e-01\n",
            " 2.60265055e-01 2.61266036e-01 2.62267017e-01 2.63267998e-01\n",
            " 2.64268979e-01 2.65269960e-01 2.66270941e-01 2.67271922e-01\n",
            " 2.68272903e-01 2.69273884e-01 2.70274865e-01 2.71275846e-01\n",
            " 2.72276827e-01 2.73277808e-01 2.74278789e-01 2.75279770e-01\n",
            " 2.76280751e-01 2.77281732e-01 2.78282713e-01 2.79283694e-01\n",
            " 2.80284675e-01 2.81285656e-01 2.82286637e-01 2.83287618e-01\n",
            " 2.84288599e-01 2.85289580e-01 2.86290561e-01 2.87291542e-01\n",
            " 2.88292523e-01 2.89293504e-01 2.90294484e-01 2.91295465e-01\n",
            " 2.92296446e-01 2.93297427e-01 2.94298408e-01 2.95299389e-01\n",
            " 2.96300370e-01 2.97301351e-01 2.98302332e-01 2.99303313e-01\n",
            " 3.00304294e-01 3.01305275e-01 3.02306256e-01 3.03307237e-01\n",
            " 3.04308218e-01 3.05309199e-01 3.06310180e-01 3.07311161e-01\n",
            " 3.08312142e-01 3.09313123e-01 3.10314104e-01 3.11315085e-01\n",
            " 3.12316066e-01 3.13317047e-01 3.14318028e-01 3.15319009e-01\n",
            " 3.16319990e-01 3.17320971e-01 3.18321952e-01 3.19322933e-01\n",
            " 3.20323914e-01 3.21324895e-01 3.22325876e-01 3.23326857e-01\n",
            " 3.24327838e-01 3.25328819e-01 3.26329800e-01 3.27330781e-01\n",
            " 3.28331762e-01 3.29332743e-01 3.30333724e-01 3.31334705e-01\n",
            " 3.32335686e-01 3.33336667e-01 3.34337648e-01 3.35338629e-01\n",
            " 3.36339610e-01 3.37340591e-01 3.38341572e-01 3.39342553e-01\n",
            " 3.40343534e-01 3.41344515e-01 3.42345495e-01 3.43346476e-01\n",
            " 3.44347457e-01 3.45348438e-01 3.46349419e-01 3.47350400e-01\n",
            " 3.48351381e-01 3.49352362e-01 3.50353343e-01 3.51354324e-01\n",
            " 3.52355305e-01 3.53356286e-01 3.54357267e-01 3.55358248e-01\n",
            " 3.56359229e-01 3.57360210e-01 3.58361191e-01 3.59362172e-01\n",
            " 3.60363153e-01 3.61364134e-01 3.62365115e-01 3.63366096e-01\n",
            " 3.64367077e-01 3.65368058e-01 3.66369039e-01 3.67370020e-01\n",
            " 3.68371001e-01 3.69371982e-01 3.70372963e-01 3.71373944e-01\n",
            " 3.72374925e-01 3.73375906e-01 3.74376887e-01 3.75377868e-01\n",
            " 3.76378849e-01 3.77379830e-01 3.78380811e-01 3.79381792e-01\n",
            " 3.80382773e-01 3.81383754e-01 3.82384735e-01 3.83385716e-01\n",
            " 3.84386697e-01 3.85387678e-01 3.86388659e-01 3.87389640e-01\n",
            " 3.88390621e-01 3.89391602e-01 3.90392583e-01 3.91393564e-01\n",
            " 3.92394545e-01 3.93395526e-01 3.94396507e-01 3.95397487e-01\n",
            " 3.96398468e-01 3.97399449e-01 3.98400430e-01 3.99401411e-01\n",
            " 4.00402392e-01 4.01403373e-01 4.02404354e-01 4.03405335e-01\n",
            " 4.04406316e-01 4.05407297e-01 4.06408278e-01 4.07409259e-01\n",
            " 4.08410240e-01 4.09411221e-01 4.10412202e-01 4.11413183e-01\n",
            " 4.12414164e-01 4.13415145e-01 4.14416126e-01 4.15417107e-01\n",
            " 4.16418088e-01 4.17419069e-01 4.18420050e-01 4.19421031e-01\n",
            " 4.20422012e-01 4.21422993e-01 4.22423974e-01 4.23424955e-01\n",
            " 4.24425936e-01 4.25426917e-01 4.26427898e-01 4.27428879e-01\n",
            " 4.28429860e-01 4.29430841e-01 4.30431822e-01 4.31432803e-01\n",
            " 4.32433784e-01 4.33434765e-01 4.34435746e-01 4.35436727e-01\n",
            " 4.36437708e-01 4.37438689e-01 4.38439670e-01 4.39440651e-01\n",
            " 4.40441632e-01 4.41442613e-01 4.42443594e-01 4.43444575e-01\n",
            " 4.44445556e-01 4.45446537e-01 4.46447518e-01 4.47448498e-01\n",
            " 4.48449479e-01 4.49450460e-01 4.50451441e-01 4.51452422e-01\n",
            " 4.52453403e-01 4.53454384e-01 4.54455365e-01 4.55456346e-01\n",
            " 4.56457327e-01 4.57458308e-01 4.58459289e-01 4.59460270e-01\n",
            " 4.60461251e-01 4.61462232e-01 4.62463213e-01 4.63464194e-01\n",
            " 4.64465175e-01 4.65466156e-01 4.66467137e-01 4.67468118e-01\n",
            " 4.68469099e-01 4.69470080e-01 4.70471061e-01 4.71472042e-01\n",
            " 4.72473023e-01 4.73474004e-01 4.74474985e-01 4.75475966e-01\n",
            " 4.76476947e-01 4.77477928e-01 4.78478909e-01 4.79479890e-01\n",
            " 4.80480871e-01 4.81481852e-01 4.82482833e-01 4.83483814e-01\n",
            " 4.84484795e-01 4.85485776e-01 4.86486757e-01 4.87487738e-01\n",
            " 4.88488719e-01 4.89489700e-01 4.90490681e-01 4.91491662e-01\n",
            " 4.92492643e-01 4.93493624e-01 4.94494605e-01 4.95495586e-01\n",
            " 4.96496567e-01 4.97497548e-01 4.98498529e-01 4.99499510e-01\n",
            " 5.00500490e-01 5.01501471e-01 5.02502452e-01 5.03503433e-01\n",
            " 5.04504414e-01 5.05505395e-01 5.06506376e-01 5.07507357e-01\n",
            " 5.08508338e-01 5.09509319e-01 5.10510300e-01 5.11511281e-01\n",
            " 5.12512262e-01 5.13513243e-01 5.14514224e-01 5.15515205e-01\n",
            " 5.16516186e-01 5.17517167e-01 5.18518148e-01 5.19519129e-01\n",
            " 5.20520110e-01 5.21521091e-01 5.22522072e-01 5.23523053e-01\n",
            " 5.24524034e-01 5.25525015e-01 5.26525996e-01 5.27526977e-01\n",
            " 5.28527958e-01 5.29528939e-01 5.30529920e-01 5.31530901e-01\n",
            " 5.32531882e-01 5.33532863e-01 5.34533844e-01 5.35534825e-01\n",
            " 5.36535806e-01 5.37536787e-01 5.38537768e-01 5.39538749e-01\n",
            " 5.40539730e-01 5.41540711e-01 5.42541692e-01 5.43542673e-01\n",
            " 5.44543654e-01 5.45544635e-01 5.46545616e-01 5.47546597e-01\n",
            " 5.48547578e-01 5.49548559e-01 5.50549540e-01 5.51550521e-01\n",
            " 5.52551502e-01 5.53552482e-01 5.54553463e-01 5.55554444e-01\n",
            " 5.56555425e-01 5.57556406e-01 5.58557387e-01 5.59558368e-01\n",
            " 5.60559349e-01 5.61560330e-01 5.62561311e-01 5.63562292e-01\n",
            " 5.64563273e-01 5.65564254e-01 5.66565235e-01 5.67566216e-01\n",
            " 5.68567197e-01 5.69568178e-01 5.70569159e-01 5.71570140e-01\n",
            " 5.72571121e-01 5.73572102e-01 5.74573083e-01 5.75574064e-01\n",
            " 5.76575045e-01 5.77576026e-01 5.78577007e-01 5.79577988e-01\n",
            " 5.80578969e-01 5.81579950e-01 5.82580931e-01 5.83581912e-01\n",
            " 5.84582893e-01 5.85583874e-01 5.86584855e-01 5.87585836e-01\n",
            " 5.88586817e-01 5.89587798e-01 5.90588779e-01 5.91589760e-01\n",
            " 5.92590741e-01 5.93591722e-01 5.94592703e-01 5.95593684e-01\n",
            " 5.96594665e-01 5.97595646e-01 5.98596627e-01 5.99597608e-01\n",
            " 6.00598589e-01 6.01599570e-01 6.02600551e-01 6.03601532e-01\n",
            " 6.04602513e-01 6.05603493e-01 6.06604474e-01 6.07605455e-01\n",
            " 6.08606436e-01 6.09607417e-01 6.10608398e-01 6.11609379e-01\n",
            " 6.12610360e-01 6.13611341e-01 6.14612322e-01 6.15613303e-01\n",
            " 6.16614284e-01 6.17615265e-01 6.18616246e-01 6.19617227e-01\n",
            " 6.20618208e-01 6.21619189e-01 6.22620170e-01 6.23621151e-01\n",
            " 6.24622132e-01 6.25623113e-01 6.26624094e-01 6.27625075e-01\n",
            " 6.28626056e-01 6.29627037e-01 6.30628018e-01 6.31628999e-01\n",
            " 6.32629980e-01 6.33630961e-01 6.34631942e-01 6.35632923e-01\n",
            " 6.36633904e-01 6.37634885e-01 6.38635866e-01 6.39636847e-01\n",
            " 6.40637828e-01 6.41638809e-01 6.42639790e-01 6.43640771e-01\n",
            " 6.44641752e-01 6.45642733e-01 6.46643714e-01 6.47644695e-01\n",
            " 6.48645676e-01 6.49646657e-01 6.50647638e-01 6.51648619e-01\n",
            " 6.52649600e-01 6.53650581e-01 6.54651562e-01 6.55652543e-01\n",
            " 6.56653524e-01 6.57654505e-01 6.58655485e-01 6.59656466e-01\n",
            " 6.60657447e-01 6.61658428e-01 6.62659409e-01 6.63660390e-01\n",
            " 6.64661371e-01 6.65662352e-01 6.66663333e-01 6.67664314e-01\n",
            " 6.68665295e-01 6.69666276e-01 6.70667257e-01 6.71668238e-01\n",
            " 6.72669219e-01 6.73670200e-01 6.74671181e-01 6.75672162e-01\n",
            " 6.76673143e-01 6.77674124e-01 6.78675105e-01 6.79676086e-01\n",
            " 6.80677067e-01 6.81678048e-01 6.82679029e-01 6.83680010e-01\n",
            " 6.84680991e-01 6.85681972e-01 6.86682953e-01 6.87683934e-01\n",
            " 6.88684915e-01 6.89685896e-01 6.90686877e-01 6.91687858e-01\n",
            " 6.92688839e-01 6.93689820e-01 6.94690801e-01 6.95691782e-01\n",
            " 6.96692763e-01 6.97693744e-01 6.98694725e-01 6.99695706e-01\n",
            " 7.00696687e-01 7.01697668e-01 7.02698649e-01 7.03699630e-01\n",
            " 7.04700611e-01 7.05701592e-01 7.06702573e-01 7.07703554e-01\n",
            " 7.08704535e-01 7.09705516e-01 7.10706496e-01 7.11707477e-01\n",
            " 7.12708458e-01 7.13709439e-01 7.14710420e-01 7.15711401e-01\n",
            " 7.16712382e-01 7.17713363e-01 7.18714344e-01 7.19715325e-01\n",
            " 7.20716306e-01 7.21717287e-01 7.22718268e-01 7.23719249e-01\n",
            " 7.24720230e-01 7.25721211e-01 7.26722192e-01 7.27723173e-01\n",
            " 7.28724154e-01 7.29725135e-01 7.30726116e-01 7.31727097e-01\n",
            " 7.32728078e-01 7.33729059e-01 7.34730040e-01 7.35731021e-01\n",
            " 7.36732002e-01 7.37732983e-01 7.38733964e-01 7.39734945e-01\n",
            " 7.40735926e-01 7.41736907e-01 7.42737888e-01 7.43738869e-01\n",
            " 7.44739850e-01 7.45740831e-01 7.46741812e-01 7.47742793e-01\n",
            " 7.48743774e-01 7.49744755e-01 7.50745736e-01 7.51746717e-01\n",
            " 7.52747698e-01 7.53748679e-01 7.54749660e-01 7.55750641e-01\n",
            " 7.56751622e-01 7.57752603e-01 7.58753584e-01 7.59754565e-01\n",
            " 7.60755546e-01 7.61756527e-01 7.62757508e-01 7.63758488e-01\n",
            " 7.64759469e-01 7.65760450e-01 7.66761431e-01 7.67762412e-01\n",
            " 7.68763393e-01 7.69764374e-01 7.70765355e-01 7.71766336e-01\n",
            " 7.72767317e-01 7.73768298e-01 7.74769279e-01 7.75770260e-01\n",
            " 7.76771241e-01 7.77772222e-01 7.78773203e-01 7.79774184e-01\n",
            " 7.80775165e-01 7.81776146e-01 7.82777127e-01 7.83778108e-01\n",
            " 7.84779089e-01 7.85780070e-01 7.86781051e-01 7.87782032e-01\n",
            " 7.88783013e-01 7.89783994e-01 7.90784975e-01 7.91785956e-01\n",
            " 7.92786937e-01 7.93787918e-01 7.94788899e-01 7.95789880e-01\n",
            " 7.96790861e-01 7.97791842e-01 7.98792823e-01 7.99793804e-01\n",
            " 8.00794785e-01 8.01795766e-01 8.02796747e-01 8.03797728e-01\n",
            " 8.04798709e-01 8.05799690e-01 8.06800671e-01 8.07801652e-01\n",
            " 8.08802633e-01 8.09803614e-01 8.10804595e-01 8.11805576e-01\n",
            " 8.12806557e-01 8.13807538e-01 8.14808519e-01 8.15809499e-01\n",
            " 8.16810480e-01 8.17811461e-01 8.18812442e-01 8.19813423e-01\n",
            " 8.20814404e-01 8.21815385e-01 8.22816366e-01 8.23817347e-01\n",
            " 8.24818328e-01 8.25819309e-01 8.26820290e-01 8.27821271e-01\n",
            " 8.28822252e-01 8.29823233e-01 8.30824214e-01 8.31825195e-01\n",
            " 8.32826176e-01 8.33827157e-01 8.34828138e-01 8.35829119e-01\n",
            " 8.36830100e-01 8.37831081e-01 8.38832062e-01 8.39833043e-01\n",
            " 8.40834024e-01 8.41835005e-01 8.42835986e-01 8.43836967e-01\n",
            " 8.44837948e-01 8.45838929e-01 8.46839910e-01 8.47840891e-01\n",
            " 8.48841872e-01 8.49842853e-01 8.50843834e-01 8.51844815e-01\n",
            " 8.52845796e-01 8.53846777e-01 8.54847758e-01 8.55848739e-01\n",
            " 8.56849720e-01 8.57850701e-01 8.58851682e-01 8.59852663e-01\n",
            " 8.60853644e-01 8.61854625e-01 8.62855606e-01 8.63856587e-01\n",
            " 8.64857568e-01 8.65858549e-01 8.66859530e-01 8.67860511e-01\n",
            " 8.68861491e-01 8.69862472e-01 8.70863453e-01 8.71864434e-01\n",
            " 8.72865415e-01 8.73866396e-01 8.74867377e-01 8.75868358e-01\n",
            " 8.76869339e-01 8.77870320e-01 8.78871301e-01 8.79872282e-01\n",
            " 8.80873263e-01 8.81874244e-01 8.82875225e-01 8.83876206e-01\n",
            " 8.84877187e-01 8.85878168e-01 8.86879149e-01 8.87880130e-01\n",
            " 8.88881111e-01 8.89882092e-01 8.90883073e-01 8.91884054e-01\n",
            " 8.92885035e-01 8.93886016e-01 8.94886997e-01 8.95887978e-01\n",
            " 8.96888959e-01 8.97889940e-01 8.98890921e-01 8.99891902e-01\n",
            " 9.00892883e-01 9.01893864e-01 9.02894845e-01 9.03895826e-01\n",
            " 9.04896807e-01 9.05897788e-01 9.06898769e-01 9.07899750e-01\n",
            " 9.08900731e-01 9.09901712e-01 9.10902693e-01 9.11903674e-01\n",
            " 9.12904655e-01 9.13905636e-01 9.14906617e-01 9.15907598e-01\n",
            " 9.16908579e-01 9.17909560e-01 9.18910541e-01 9.19911522e-01\n",
            " 9.20912503e-01 9.21913483e-01 9.22914464e-01 9.23915445e-01\n",
            " 9.24916426e-01 9.25917407e-01 9.26918388e-01 9.27919369e-01\n",
            " 9.28920350e-01 9.29921331e-01 9.30922312e-01 9.31923293e-01\n",
            " 9.32924274e-01 9.33925255e-01 9.34926236e-01 9.35927217e-01\n",
            " 9.36928198e-01 9.37929179e-01 9.38930160e-01 9.39931141e-01\n",
            " 9.40932122e-01 9.41933103e-01 9.42934084e-01 9.43935065e-01\n",
            " 9.44936046e-01 9.45937027e-01 9.46938008e-01 9.47938989e-01\n",
            " 9.48939970e-01 9.49940951e-01 9.50941932e-01 9.51942913e-01\n",
            " 9.52943894e-01 9.53944875e-01 9.54945856e-01 9.55946837e-01\n",
            " 9.56947818e-01 9.57948799e-01 9.58949780e-01 9.59950761e-01\n",
            " 9.60951742e-01 9.61952723e-01 9.62953704e-01 9.63954685e-01\n",
            " 9.64955666e-01 9.65956647e-01 9.66957628e-01 9.67958609e-01\n",
            " 9.68959590e-01 9.69960571e-01 9.70961552e-01 9.71962533e-01\n",
            " 9.72963514e-01 9.73964494e-01 9.74965475e-01 9.75966456e-01\n",
            " 9.76967437e-01 9.77968418e-01 9.78969399e-01 9.79970380e-01\n",
            " 9.80971361e-01 9.81972342e-01 9.82973323e-01 9.83974304e-01\n",
            " 9.84975285e-01 9.85976266e-01 9.86977247e-01 9.87978228e-01\n",
            " 9.88979209e-01 9.89980190e-01 9.90981171e-01 9.91982152e-01\n",
            " 9.92983133e-01 9.93984114e-01 9.94985095e-01 9.95986076e-01\n",
            " 9.96987057e-01 9.97988038e-01 9.98989019e-01 9.99990000e-01]\n",
            "----------------\n",
            "[-195.7197629  -117.24921505 -105.55300582  -98.69129772  -93.81782769\n",
            "  -90.0358765   -86.9450804   -84.33157889  -82.06759959  -80.07067275\n",
            "  -78.28446084  -76.66876512  -75.19389515  -73.83729795  -72.58143899\n",
            "  -71.41241555  -70.31901817  -69.29207702  -68.32399519  -67.40840838\n",
            "  -66.53993184  -65.7139691   -64.92656529  -64.17429298  -63.45416239\n",
            "  -62.76354989  -62.10014058  -61.46188165  -60.84694424  -60.25369204\n",
            "  -59.68065515  -59.12650826  -58.59005228  -58.07019882  -57.56595693\n",
            "  -57.07642187  -56.60076533  -56.13822708  -55.68810774  -55.24976238\n",
            "  -54.82259508  -54.40605405  -53.9996274   -53.60283937  -53.21524698\n",
            "  -52.83643716  -52.46602405  -52.10364667  -51.74896686  -51.40166737\n",
            "  -51.06145018  -50.72803496  -50.40115772  -50.08056956  -49.76603552\n",
            "  -49.45733358  -49.15425374  -48.85659711  -48.56417522  -48.27680923\n",
            "  -47.99432934  -47.71657416  -47.44339017  -47.17463122  -46.91015808\n",
            "  -46.64983797  -46.3935442   -46.14115581  -45.8925572   -45.64763784\n",
            "  -45.40629197  -45.16841832  -44.93391989  -44.70270368  -44.47468049\n",
            "  -44.2497647   -44.02787411  -43.80892974  -43.59285566  -43.37957884\n",
            "  -43.16902902  -42.96113855  -42.75584226  -42.55307737  -42.35278334\n",
            "  -42.15490179  -41.95937638  -41.76615273  -41.57517833  -41.38640243\n",
            "  -41.199776    -41.01525162  -40.83278346  -40.65232713  -40.47383969\n",
            "  -40.29727956  -40.12260647  -39.94978139  -39.7787665   -39.60952513\n",
            "  -39.44202173  -39.27622178  -39.1120918   -38.9495993   -38.78871272\n",
            "  -38.62940139  -38.47163555  -38.31538624  -38.16062534  -38.00732548\n",
            "  -37.85546007  -37.70500321  -37.55592973  -37.4082151   -37.26183545\n",
            "  -37.11676756  -36.97298877  -36.83047703  -36.68921086  -36.5491693\n",
            "  -36.41033194  -36.27267886  -36.13619065  -36.00084835  -35.86663348\n",
            "  -35.73352801  -35.60151433  -35.47057525  -35.34069398  -35.21185413\n",
            "  -35.08403969  -34.95723502  -34.83142483  -34.70659417  -34.58272844\n",
            "  -34.45981337  -34.33783499  -34.21677964  -34.09663397  -33.97738492\n",
            "  -33.85901968  -33.74152576  -33.6248909   -33.50910312  -33.39415067\n",
            "  -33.28002206  -33.16670603  -33.05419155  -32.94246784  -32.83152428\n",
            "  -32.72135053  -32.61193641  -32.50327197  -32.39534742  -32.28815321\n",
            "  -32.18167993  -32.07591839  -31.97085954  -31.86649454  -31.76281468\n",
            "  -31.65981145  -31.55747647  -31.45580154  -31.35477858  -31.2543997\n",
            "  -31.15465712  -31.05554321  -30.95705049  -30.85917159  -30.76189931\n",
            "  -30.66522654  -30.56914631  -30.47365177  -30.3787362   -30.28439298\n",
            "  -30.19061561  -30.09739771  -30.00473299  -29.9126153   -29.82103854\n",
            "  -29.72999677  -29.63948412  -29.5494948   -29.46002316  -29.3710636\n",
            "  -29.28261064  -29.19465887  -29.10720298  -29.02023775  -28.93375801\n",
            "  -28.84775872  -28.76223488  -28.67718158  -28.59259401  -28.5084674\n",
            "  -28.42479708  -28.34157843  -28.25880692  -28.17647807  -28.0945875\n",
            "  -28.01313085  -27.93210387  -27.85150234  -27.77132213  -27.69155914\n",
            "  -27.61220937  -27.53326883  -27.45473364  -27.37659994  -27.29886394\n",
            "  -27.2215219   -27.14457013  -27.068005    -26.99182293  -26.91602039\n",
            "  -26.84059391  -26.76554003  -26.6908554   -26.61653665  -26.54258051\n",
            "  -26.46898373  -26.3957431   -26.32285546  -26.25031771  -26.17812677\n",
            "  -26.1062796   -26.03477321  -25.96360466  -25.89277102  -25.82226944\n",
            "  -25.75209705  -25.68225108  -25.61272875  -25.54352735  -25.47464417\n",
            "  -25.40607656  -25.3378219   -25.2698776   -25.2022411   -25.13490987\n",
            "  -25.06788144  -25.00115332  -24.9347231   -24.86858838  -24.80274678\n",
            "  -24.73719596  -24.67193362  -24.60695746  -24.54226523  -24.47785471\n",
            "  -24.41372369  -24.34987     -24.28629148  -24.22298603  -24.15995153\n",
            "  -24.09718592  -24.03468715  -23.9724532   -23.91048206  -23.84877175\n",
            "  -23.78732034  -23.72612588  -23.66518646  -23.60450021  -23.54406525\n",
            "  -23.48387975  -23.42394188  -23.36424983  -23.30480183  -23.24559613\n",
            "  -23.18663097  -23.12790463  -23.06941542  -23.01116164  -22.95314165\n",
            "  -22.89535378  -22.83779641  -22.78046794  -22.72336676  -22.66649131\n",
            "  -22.60984003  -22.55341137  -22.49720381  -22.44121585  -22.38544599\n",
            "  -22.32989275  -22.27455468  -22.21943034  -22.16451828  -22.10981711\n",
            "  -22.05532541  -22.00104181  -21.94696494  -21.89309343  -21.83942596\n",
            "  -21.78596118  -21.73269779  -21.67963449  -21.62676999  -21.57410301\n",
            "  -21.5216323   -21.46935661  -21.4172747   -21.36538534  -21.31368734\n",
            "  -21.26217949  -21.2108606   -21.1597295   -21.10878502  -21.05802603\n",
            "  -21.00745137  -20.95705992  -20.90685055  -20.85682218  -20.80697369\n",
            "  -20.757304    -20.70781205  -20.65849676  -20.60935708  -20.56039198\n",
            "  -20.51160041  -20.46298135  -20.41453379  -20.36625673  -20.31814917\n",
            "  -20.27021012  -20.22243862  -20.17483369  -20.12739438  -20.08011974\n",
            "  -20.03300883  -19.98606073  -19.9392745   -19.89264923  -19.84618403\n",
            "  -19.79987799  -19.75373023  -19.70773987  -19.66190604  -19.61622786\n",
            "  -19.57070449  -19.52533508  -19.48011879  -19.43505479  -19.39014224\n",
            "  -19.34538034  -19.30076828  -19.25630524  -19.21199044  -19.16782308\n",
            "  -19.12380239  -19.07992759  -19.03619791  -18.9926126   -18.94917089\n",
            "  -18.90587204  -18.86271532  -18.81969998  -18.77682529  -18.73409055\n",
            "  -18.69149502  -18.64903801  -18.60671881  -18.56453673  -18.52249106\n",
            "  -18.48058114  -18.43880628  -18.3971658   -18.35565905  -18.31428535\n",
            "  -18.27304406  -18.23193452  -18.1909561   -18.15010814  -18.10939003\n",
            "  -18.06880112  -18.0283408   -17.98800845  -17.94780346  -17.90772521\n",
            "  -17.86777312  -17.82794658  -17.788245    -17.74866779  -17.70921438\n",
            "  -17.66988418  -17.63067662  -17.59159114  -17.55262717  -17.51378415\n",
            "  -17.47506153  -17.43645877  -17.39797531  -17.35961062  -17.32136416\n",
            "  -17.28323541  -17.24522383  -17.2073289   -17.1695501   -17.13188693\n",
            "  -17.09433887  -17.05690541  -17.01958606  -16.98238032  -16.94528769\n",
            "  -16.90830769  -16.87143982  -16.83468362  -16.7980386   -16.76150428\n",
            "  -16.7250802   -16.6887659   -16.65256091  -16.61646477  -16.58047703\n",
            "  -16.54459723  -16.50882494  -16.4731597   -16.43760107  -16.40214863\n",
            "  -16.36680193  -16.33156055  -16.29642405  -16.26139203  -16.22646405\n",
            "  -16.1916397   -16.15691857  -16.12230025  -16.08778433  -16.05337042\n",
            "  -16.0190581   -15.98484698  -15.95073668  -15.91672679  -15.88281694\n",
            "  -15.84900674  -15.8152958   -15.78168375  -15.74817022  -15.71475483\n",
            "  -15.68143721  -15.64821699  -15.61509382  -15.58206733  -15.54913717\n",
            "  -15.51630298  -15.4835644   -15.4509211   -15.41837272  -15.38591892\n",
            "  -15.35355935  -15.32129369  -15.28912159  -15.25704272  -15.22505676\n",
            "  -15.19316337  -15.16136222  -15.12965301  -15.0980354   -15.06650908\n",
            "  -15.03507374  -15.00372906  -14.97247473  -14.94131045  -14.91023591\n",
            "  -14.87925081  -14.84835485  -14.81754773  -14.78682915  -14.75619883\n",
            "  -14.72565647  -14.69520179  -14.66483449  -14.6345543   -14.60436094\n",
            "  -14.57425412  -14.54423357  -14.51429901  -14.48445018  -14.4546868\n",
            "  -14.4250086   -14.39541532  -14.3659067   -14.33648247  -14.30714237\n",
            "  -14.27788616  -14.24871357  -14.21962434  -14.19061824  -14.16169501\n",
            "  -14.1328544   -14.10409618  -14.07542009  -14.04682589  -14.01831336\n",
            "  -13.98988225  -13.96153233  -13.93326336  -13.90507512  -13.87696737\n",
            "  -13.84893989  -13.82099246  -13.79312485  -13.76533684  -13.73762822\n",
            "  -13.70999876  -13.68244825  -13.65497648  -13.62758323  -13.6002683\n",
            "  -13.57303148  -13.54587256  -13.51879134  -13.49178761  -13.46486119\n",
            "  -13.43801185  -13.41123942  -13.38454369  -13.35792448  -13.33138158\n",
            "  -13.30491482  -13.278524    -13.25220893  -13.22596944  -13.19980533\n",
            "  -13.17371643  -13.14770256  -13.12176354  -13.09589919  -13.07010934\n",
            "  -13.04439382  -13.01875246  -12.99318508  -12.96769152  -12.94227161\n",
            "  -12.91692519  -12.8916521   -12.86645217  -12.84132524  -12.81627116\n",
            "  -12.79128978  -12.76638092  -12.74154446  -12.71678022  -12.69208806\n",
            "  -12.66746784  -12.64291941  -12.61844261  -12.59403732  -12.56970337\n",
            "  -12.54544065  -12.521249    -12.49712829  -12.47307839  -12.44909915\n",
            "  -12.42519045  -12.40135216  -12.37758414  -12.35388627  -12.33025842\n",
            "  -12.30670047  -12.2832123   -12.25979377  -12.23644477  -12.21316519\n",
            "  -12.1899549   -12.16681379  -12.14374175  -12.12073865  -12.0978044\n",
            "  -12.07493887  -12.05214197  -12.02941359  -12.00675361  -11.98416194\n",
            "  -11.96163847  -11.93918311  -11.91679575  -11.89447629  -11.87222465\n",
            "  -11.85004072  -11.8279244   -11.80587562  -11.78389428  -11.76198028\n",
            "  -11.74013355  -11.71835399  -11.69664153  -11.67499607  -11.65341754\n",
            "  -11.63190585  -11.61046094  -11.58908271  -11.5677711   -11.54652603\n",
            "  -11.52534743  -11.50423523  -11.48318935  -11.46220974  -11.44129632\n",
            "  -11.42044902  -11.39966779  -11.37895256  -11.35830327  -11.33771986\n",
            "  -11.31720228  -11.29675047  -11.27636437  -11.25604392  -11.23578909\n",
            "  -11.21559982  -11.19547605  -11.17541775  -11.15542486  -11.13549735\n",
            "  -11.11563517  -11.09583828  -11.07610663  -11.0564402   -11.03683895\n",
            "  -11.01730284  -10.99783183  -10.9784259   -10.95908502  -10.93980915\n",
            "  -10.92059827  -10.90145236  -10.88237139  -10.86335534  -10.84440419\n",
            "  -10.82551792  -10.80669651  -10.78793995  -10.76924822  -10.75062131\n",
            "  -10.73205921  -10.7135619   -10.69512939  -10.67676167  -10.65845873\n",
            "  -10.64022057  -10.62204719  -10.60393858  -10.58589476  -10.56791573\n",
            "  -10.55000148  -10.53215204  -10.51436741  -10.4966476   -10.47899262\n",
            "  -10.46140249  -10.44387722  -10.42641684  -10.40902136  -10.3916908\n",
            "  -10.37442519  -10.35722456  -10.34008892  -10.32301832  -10.30601278\n",
            "  -10.28907233  -10.27219701  -10.25538686  -10.23864191  -10.22196221\n",
            "  -10.20534779  -10.1887987   -10.172315    -10.15589672  -10.13954391\n",
            "  -10.12325664  -10.10703495  -10.0908789   -10.07478855  -10.05876395\n",
            "  -10.04280518  -10.0269123   -10.01108537   -9.99532446   -9.97962964\n",
            "   -9.964001     -9.94843859   -9.93294251   -9.91751283   -9.90214963\n",
            "   -9.88685299   -9.87162301   -9.85645978   -9.84136338   -9.82633391\n",
            "   -9.81137146   -9.79647614   -9.78164804   -9.76688728   -9.75219394\n",
            "   -9.73756815   -9.72301001   -9.70851964   -9.69409715   -9.67974267\n",
            "   -9.66545631   -9.6512382    -9.63708846   -9.62300722   -9.60899462\n",
            "   -9.59505079   -9.58117587   -9.56737      -9.55363332   -9.53996597\n",
            "   -9.52636812   -9.5128399    -9.49938148   -9.48599301   -9.47267466\n",
            "   -9.45942658   -9.44624895   -9.43314193   -9.4201057    -9.40714044\n",
            "   -9.39424633   -9.38142355   -9.36867228   -9.35599272   -9.34338506\n",
            "   -9.33084949   -9.31838623   -9.30599547   -9.29367742   -9.28143229\n",
            "   -9.2692603    -9.25716166   -9.24513661   -9.23318535   -9.22130814\n",
            "   -9.20950519   -9.19777676   -9.18612307   -9.17454438   -9.16304094\n",
            "   -9.15161301   -9.14026084   -9.12898469   -9.11778484   -9.10666155\n",
            "   -9.09561511   -9.08464579   -9.07375389   -9.06293968   -9.05220348\n",
            "   -9.04154557   -9.03096627   -9.02046588   -9.01004473   -8.99970312\n",
            "   -8.98944139   -8.97925987   -8.9691589    -8.95913881   -8.94919996\n",
            "   -8.93934269   -8.92956738   -8.91987437   -8.91026405   -8.90073679\n",
            "   -8.89129298   -8.88193299   -8.87265723   -8.86346611   -8.85436002\n",
            "   -8.84533938   -8.83640462   -8.82755616   -8.81879444   -8.8101199\n",
            "   -8.80153299   -8.79303417   -8.7846239    -8.77630266   -8.76807092\n",
            "   -8.75992917   -8.75187791   -8.74391764   -8.73604887   -8.72827213\n",
            "   -8.72058794   -8.71299683   -8.70549937   -8.69809609   -8.69078757\n",
            "   -8.68357437   -8.67645709   -8.66943632   -8.66251265   -8.65568671\n",
            "   -8.64895911   -8.64233049   -8.63580149   -8.62937277   -8.62304499\n",
            "   -8.61681884   -8.610695     -8.60467416   -8.59875706   -8.5929444\n",
            "   -8.58723693   -8.58163539   -8.57614056   -8.5707532    -8.56547411\n",
            "   -8.56030408   -8.55524394   -8.55029452   -8.54545667   -8.54073124\n",
            "   -8.53611912   -8.53162119   -8.52723836   -8.52297156   -8.51882173\n",
            "   -8.51478983   -8.51087684   -8.50708373   -8.50341154   -8.49986128\n",
            "   -8.49643401   -8.4931308    -8.48995273   -8.48690091   -8.48397647\n",
            "   -8.48118057   -8.47851436   -8.47597906   -8.47357587   -8.47130604\n",
            "   -8.46917084   -8.46717154   -8.46530947   -8.46358596   -8.46200239\n",
            "   -8.46056014   -8.45926064   -8.45810533   -8.45709569   -8.45623324\n",
            "   -8.45551951   -8.45495607   -8.45454453   -8.45428651   -8.45418369\n",
            "   -8.45423778   -8.4544505    -8.45482365   -8.45535903   -8.4560585\n",
            "   -8.45692395   -8.45795731   -8.45916056   -8.46053572   -8.46208486\n",
            "   -8.46381007   -8.46571353   -8.46779742   -8.47006401   -8.47251561\n",
            "   -8.47515457   -8.4779833    -8.48100428   -8.48422002   -8.48763313\n",
            "   -8.49124623   -8.49506206   -8.49908337   -8.50331302   -8.50775391\n",
            "   -8.51240903   -8.51728144   -8.52237427   -8.52769074   -8.53323413\n",
            "   -8.53900784   -8.54501531   -8.55126012   -8.5577459    -8.56447641\n",
            "   -8.57145548   -8.57868706   -8.58617521   -8.5939241    -8.60193799\n",
            "   -8.61022129   -8.61877853   -8.62761434   -8.63673351   -8.64614096\n",
            "   -8.65584175   -8.66584108   -8.67614433   -8.68675702   -8.69768483\n",
            "   -8.70893363   -8.72050946   -8.73241856   -8.74466734   -8.75726244\n",
            "   -8.77021071   -8.78351919   -8.7971952    -8.81124625   -8.82568014\n",
            "   -8.84050492   -8.8557289    -8.8713607    -8.88740923   -8.90388371\n",
            "   -8.92079369   -8.93814908   -8.95596013   -8.97423749   -8.99299218\n",
            "   -9.01223568   -9.03197987   -9.05223711   -9.07302024   -9.09434264\n",
            "   -9.11621818   -9.13866133   -9.16168717   -9.18531139   -9.20955036\n",
            "   -9.23442116   -9.25994162   -9.28613036   -9.31300684   -9.34059143\n",
            "   -9.36890544   -9.39797117   -9.42781201   -9.45845251   -9.48991841\n",
            "   -9.52223676   -9.555436     -9.58954606   -9.62459846   -9.66062642\n",
            "   -9.69766499   -9.73575121   -9.7749242    -9.81522539   -9.85669867\n",
            "   -9.89939059   -9.94335058   -9.98863118  -10.03528835  -10.08338173\n",
            "  -10.13297498  -10.18413615  -10.2369381   -10.29145897  -10.34778268\n",
            "  -10.40599952  -10.46620682  -10.52850973  -10.593022    -10.65986703\n",
            "  -10.72917893  -10.80110384  -10.87580138  -10.9534464   -11.03423091\n",
            "  -11.1183665   -11.20608699  -11.29765176  -11.39334953  -11.49350299\n",
            "  -11.59847438  -11.70867216  -11.82455931  -11.94666339  -12.0755892\n",
            "  -12.21203464  -12.3568108   -12.5108679   -12.67532902  -12.85153475\n",
            "  -13.04110328  -13.24601269  -13.46871638  -13.71230864  -13.98076938\n",
            "  -14.27933804  -14.61510851  -14.99802264  -15.4426339   -15.97149033\n",
            "  -16.62233197  -17.46581121  -18.66017261  -20.70769782  -34.5389464 ]\n",
            "849\n",
            "0.8498428528528528\n",
            "theta_mle = 0.850\n"
          ]
        }
      ],
      "source": [
        "theta_mle = compute_theta_mle(samples)\n",
        "print(f'theta_mle = {theta_mle:.3f}')"
      ]
    },
    {
      "cell_type": "markdown",
      "metadata": {
        "id": "cw9CaFEJr_f6"
      },
      "source": [
        "## Task 5: Compute $\\theta_{MAP}$"
      ]
    },
    {
      "cell_type": "code",
      "execution_count": 22,
      "metadata": {
        "id": "AMfLcLFPr_f6"
      },
      "outputs": [],
      "source": [
        "def compute_theta_map(samples, a, b):\n",
        "    \"\"\"Compute theta_MAP for the given data.\n",
        "    \n",
        "    Parameters\n",
        "    ----------\n",
        "    samples : array, shape (num_samples)\n",
        "        Outcomes of simulated coin flips. Tails is 1 and heads is 0.\n",
        "    a, b: float\n",
        "        Parameters of the prior Beta distribution.\n",
        "    \n",
        "    Returns\n",
        "    -------\n",
        "    theta_map : float\n",
        "        Maximum a posteriori estimate of theta.\n",
        "    \"\"\"\n",
        "    # Define the range of theta values to consider\n",
        "    x = np.linspace(1e-5, 1 - 1e-5, 1000)\n",
        "\n",
        "    # Compute the log-likelihood and log-prior for each theta value\n",
        "    log_likelihood = compute_log_likelihood(x, samples)\n",
        "    log_prior = compute_log_prior(x, a, b)\n",
        "\n",
        "    # Compute the logarithm of the posterior distribution\n",
        "    log_posterior = log_likelihood + log_prior\n",
        "\n",
        "    # Find the value of theta that maximizes the posterior distribution\n",
        "    theta_map = x[np.argmax(log_posterior)]\n",
        "\n",
        "    return theta_map"
      ]
    },
    {
      "cell_type": "code",
      "execution_count": 23,
      "metadata": {
        "colab": {
          "base_uri": "https://localhost:8080/"
        },
        "id": "XO-vjDaUr_f7",
        "outputId": "6d58c3dd-3973-4bce-c31b-248e9ed766c8"
      },
      "outputs": [
        {
          "output_type": "stream",
          "name": "stdout",
          "text": [
            "theta_map = 0.731\n"
          ]
        }
      ],
      "source": [
        "theta_map = compute_theta_map(samples, a, b)\n",
        "print(f'theta_map = {theta_map:.3f}')"
      ]
    },
    {
      "cell_type": "markdown",
      "metadata": {
        "id": "bU_bUWKPr_f7"
      },
      "source": [
        "# Putting everything together"
      ]
    },
    {
      "cell_type": "markdown",
      "metadata": {
        "id": "FGm4ZbUjr_f7"
      },
      "source": [
        "Now you can play around with the values of `a`, `b`, `num_samples` and `tails_proba` to see how the results are changing."
      ]
    },
    {
      "cell_type": "code",
      "execution_count": 24,
      "metadata": {
        "colab": {
          "base_uri": "https://localhost:8080/"
        },
        "id": "2Zz0t2NTr_f7",
        "outputId": "07c9b9ff-74e8-4c77-b4d3-9df5d0a471bb"
      },
      "outputs": [
        {
          "output_type": "stream",
          "name": "stdout",
          "text": [
            "[1 0 1 1 1 0 1 1 1 1 0 1 1 1 1 1 1 1 1 1]\n"
          ]
        }
      ],
      "source": [
        "num_samples = 20\n",
        "tails_proba = 0.7\n",
        "samples = simulate_data(num_samples, tails_proba)\n",
        "a, b = 3, 5\n",
        "print(samples)"
      ]
    },
    {
      "cell_type": "code",
      "execution_count": 25,
      "metadata": {
        "colab": {
          "base_uri": "https://localhost:8080/",
          "height": 1000
        },
        "id": "mHI5V2u2r_f7",
        "outputId": "a3a3cfeb-512d-4c7e-ead8-a8e0373cae99"
      },
      "outputs": [
        {
          "output_type": "stream",
          "name": "stdout",
          "text": [
            "[1.00000000e-05 1.01098098e-03 2.01196196e-03 3.01294294e-03\n",
            " 4.01392392e-03 5.01490490e-03 6.01588589e-03 7.01686687e-03\n",
            " 8.01784785e-03 9.01882883e-03 1.00198098e-02 1.10207908e-02\n",
            " 1.20217718e-02 1.30227528e-02 1.40237337e-02 1.50247147e-02\n",
            " 1.60256957e-02 1.70266767e-02 1.80276577e-02 1.90286386e-02\n",
            " 2.00296196e-02 2.10306006e-02 2.20315816e-02 2.30325626e-02\n",
            " 2.40335435e-02 2.50345245e-02 2.60355055e-02 2.70364865e-02\n",
            " 2.80374675e-02 2.90384484e-02 3.00394294e-02 3.10404104e-02\n",
            " 3.20413914e-02 3.30423724e-02 3.40433534e-02 3.50443343e-02\n",
            " 3.60453153e-02 3.70462963e-02 3.80472773e-02 3.90482583e-02\n",
            " 4.00492392e-02 4.10502202e-02 4.20512012e-02 4.30521822e-02\n",
            " 4.40531632e-02 4.50541441e-02 4.60551251e-02 4.70561061e-02\n",
            " 4.80570871e-02 4.90580681e-02 5.00590490e-02 5.10600300e-02\n",
            " 5.20610110e-02 5.30619920e-02 5.40629730e-02 5.50639540e-02\n",
            " 5.60649349e-02 5.70659159e-02 5.80668969e-02 5.90678779e-02\n",
            " 6.00688589e-02 6.10698398e-02 6.20708208e-02 6.30718018e-02\n",
            " 6.40727828e-02 6.50737638e-02 6.60747447e-02 6.70757257e-02\n",
            " 6.80767067e-02 6.90776877e-02 7.00786687e-02 7.10796496e-02\n",
            " 7.20806306e-02 7.30816116e-02 7.40825926e-02 7.50835736e-02\n",
            " 7.60845546e-02 7.70855355e-02 7.80865165e-02 7.90874975e-02\n",
            " 8.00884785e-02 8.10894595e-02 8.20904404e-02 8.30914214e-02\n",
            " 8.40924024e-02 8.50933834e-02 8.60943644e-02 8.70953453e-02\n",
            " 8.80963263e-02 8.90973073e-02 9.00982883e-02 9.10992693e-02\n",
            " 9.21002503e-02 9.31012312e-02 9.41022122e-02 9.51031932e-02\n",
            " 9.61041742e-02 9.71051552e-02 9.81061361e-02 9.91071171e-02\n",
            " 1.00108098e-01 1.01109079e-01 1.02110060e-01 1.03111041e-01\n",
            " 1.04112022e-01 1.05113003e-01 1.06113984e-01 1.07114965e-01\n",
            " 1.08115946e-01 1.09116927e-01 1.10117908e-01 1.11118889e-01\n",
            " 1.12119870e-01 1.13120851e-01 1.14121832e-01 1.15122813e-01\n",
            " 1.16123794e-01 1.17124775e-01 1.18125756e-01 1.19126737e-01\n",
            " 1.20127718e-01 1.21128699e-01 1.22129680e-01 1.23130661e-01\n",
            " 1.24131642e-01 1.25132623e-01 1.26133604e-01 1.27134585e-01\n",
            " 1.28135566e-01 1.29136547e-01 1.30137528e-01 1.31138509e-01\n",
            " 1.32139489e-01 1.33140470e-01 1.34141451e-01 1.35142432e-01\n",
            " 1.36143413e-01 1.37144394e-01 1.38145375e-01 1.39146356e-01\n",
            " 1.40147337e-01 1.41148318e-01 1.42149299e-01 1.43150280e-01\n",
            " 1.44151261e-01 1.45152242e-01 1.46153223e-01 1.47154204e-01\n",
            " 1.48155185e-01 1.49156166e-01 1.50157147e-01 1.51158128e-01\n",
            " 1.52159109e-01 1.53160090e-01 1.54161071e-01 1.55162052e-01\n",
            " 1.56163033e-01 1.57164014e-01 1.58164995e-01 1.59165976e-01\n",
            " 1.60166957e-01 1.61167938e-01 1.62168919e-01 1.63169900e-01\n",
            " 1.64170881e-01 1.65171862e-01 1.66172843e-01 1.67173824e-01\n",
            " 1.68174805e-01 1.69175786e-01 1.70176767e-01 1.71177748e-01\n",
            " 1.72178729e-01 1.73179710e-01 1.74180691e-01 1.75181672e-01\n",
            " 1.76182653e-01 1.77183634e-01 1.78184615e-01 1.79185596e-01\n",
            " 1.80186577e-01 1.81187558e-01 1.82188539e-01 1.83189520e-01\n",
            " 1.84190501e-01 1.85191481e-01 1.86192462e-01 1.87193443e-01\n",
            " 1.88194424e-01 1.89195405e-01 1.90196386e-01 1.91197367e-01\n",
            " 1.92198348e-01 1.93199329e-01 1.94200310e-01 1.95201291e-01\n",
            " 1.96202272e-01 1.97203253e-01 1.98204234e-01 1.99205215e-01\n",
            " 2.00206196e-01 2.01207177e-01 2.02208158e-01 2.03209139e-01\n",
            " 2.04210120e-01 2.05211101e-01 2.06212082e-01 2.07213063e-01\n",
            " 2.08214044e-01 2.09215025e-01 2.10216006e-01 2.11216987e-01\n",
            " 2.12217968e-01 2.13218949e-01 2.14219930e-01 2.15220911e-01\n",
            " 2.16221892e-01 2.17222873e-01 2.18223854e-01 2.19224835e-01\n",
            " 2.20225816e-01 2.21226797e-01 2.22227778e-01 2.23228759e-01\n",
            " 2.24229740e-01 2.25230721e-01 2.26231702e-01 2.27232683e-01\n",
            " 2.28233664e-01 2.29234645e-01 2.30235626e-01 2.31236607e-01\n",
            " 2.32237588e-01 2.33238569e-01 2.34239550e-01 2.35240531e-01\n",
            " 2.36241512e-01 2.37242492e-01 2.38243473e-01 2.39244454e-01\n",
            " 2.40245435e-01 2.41246416e-01 2.42247397e-01 2.43248378e-01\n",
            " 2.44249359e-01 2.45250340e-01 2.46251321e-01 2.47252302e-01\n",
            " 2.48253283e-01 2.49254264e-01 2.50255245e-01 2.51256226e-01\n",
            " 2.52257207e-01 2.53258188e-01 2.54259169e-01 2.55260150e-01\n",
            " 2.56261131e-01 2.57262112e-01 2.58263093e-01 2.59264074e-01\n",
            " 2.60265055e-01 2.61266036e-01 2.62267017e-01 2.63267998e-01\n",
            " 2.64268979e-01 2.65269960e-01 2.66270941e-01 2.67271922e-01\n",
            " 2.68272903e-01 2.69273884e-01 2.70274865e-01 2.71275846e-01\n",
            " 2.72276827e-01 2.73277808e-01 2.74278789e-01 2.75279770e-01\n",
            " 2.76280751e-01 2.77281732e-01 2.78282713e-01 2.79283694e-01\n",
            " 2.80284675e-01 2.81285656e-01 2.82286637e-01 2.83287618e-01\n",
            " 2.84288599e-01 2.85289580e-01 2.86290561e-01 2.87291542e-01\n",
            " 2.88292523e-01 2.89293504e-01 2.90294484e-01 2.91295465e-01\n",
            " 2.92296446e-01 2.93297427e-01 2.94298408e-01 2.95299389e-01\n",
            " 2.96300370e-01 2.97301351e-01 2.98302332e-01 2.99303313e-01\n",
            " 3.00304294e-01 3.01305275e-01 3.02306256e-01 3.03307237e-01\n",
            " 3.04308218e-01 3.05309199e-01 3.06310180e-01 3.07311161e-01\n",
            " 3.08312142e-01 3.09313123e-01 3.10314104e-01 3.11315085e-01\n",
            " 3.12316066e-01 3.13317047e-01 3.14318028e-01 3.15319009e-01\n",
            " 3.16319990e-01 3.17320971e-01 3.18321952e-01 3.19322933e-01\n",
            " 3.20323914e-01 3.21324895e-01 3.22325876e-01 3.23326857e-01\n",
            " 3.24327838e-01 3.25328819e-01 3.26329800e-01 3.27330781e-01\n",
            " 3.28331762e-01 3.29332743e-01 3.30333724e-01 3.31334705e-01\n",
            " 3.32335686e-01 3.33336667e-01 3.34337648e-01 3.35338629e-01\n",
            " 3.36339610e-01 3.37340591e-01 3.38341572e-01 3.39342553e-01\n",
            " 3.40343534e-01 3.41344515e-01 3.42345495e-01 3.43346476e-01\n",
            " 3.44347457e-01 3.45348438e-01 3.46349419e-01 3.47350400e-01\n",
            " 3.48351381e-01 3.49352362e-01 3.50353343e-01 3.51354324e-01\n",
            " 3.52355305e-01 3.53356286e-01 3.54357267e-01 3.55358248e-01\n",
            " 3.56359229e-01 3.57360210e-01 3.58361191e-01 3.59362172e-01\n",
            " 3.60363153e-01 3.61364134e-01 3.62365115e-01 3.63366096e-01\n",
            " 3.64367077e-01 3.65368058e-01 3.66369039e-01 3.67370020e-01\n",
            " 3.68371001e-01 3.69371982e-01 3.70372963e-01 3.71373944e-01\n",
            " 3.72374925e-01 3.73375906e-01 3.74376887e-01 3.75377868e-01\n",
            " 3.76378849e-01 3.77379830e-01 3.78380811e-01 3.79381792e-01\n",
            " 3.80382773e-01 3.81383754e-01 3.82384735e-01 3.83385716e-01\n",
            " 3.84386697e-01 3.85387678e-01 3.86388659e-01 3.87389640e-01\n",
            " 3.88390621e-01 3.89391602e-01 3.90392583e-01 3.91393564e-01\n",
            " 3.92394545e-01 3.93395526e-01 3.94396507e-01 3.95397487e-01\n",
            " 3.96398468e-01 3.97399449e-01 3.98400430e-01 3.99401411e-01\n",
            " 4.00402392e-01 4.01403373e-01 4.02404354e-01 4.03405335e-01\n",
            " 4.04406316e-01 4.05407297e-01 4.06408278e-01 4.07409259e-01\n",
            " 4.08410240e-01 4.09411221e-01 4.10412202e-01 4.11413183e-01\n",
            " 4.12414164e-01 4.13415145e-01 4.14416126e-01 4.15417107e-01\n",
            " 4.16418088e-01 4.17419069e-01 4.18420050e-01 4.19421031e-01\n",
            " 4.20422012e-01 4.21422993e-01 4.22423974e-01 4.23424955e-01\n",
            " 4.24425936e-01 4.25426917e-01 4.26427898e-01 4.27428879e-01\n",
            " 4.28429860e-01 4.29430841e-01 4.30431822e-01 4.31432803e-01\n",
            " 4.32433784e-01 4.33434765e-01 4.34435746e-01 4.35436727e-01\n",
            " 4.36437708e-01 4.37438689e-01 4.38439670e-01 4.39440651e-01\n",
            " 4.40441632e-01 4.41442613e-01 4.42443594e-01 4.43444575e-01\n",
            " 4.44445556e-01 4.45446537e-01 4.46447518e-01 4.47448498e-01\n",
            " 4.48449479e-01 4.49450460e-01 4.50451441e-01 4.51452422e-01\n",
            " 4.52453403e-01 4.53454384e-01 4.54455365e-01 4.55456346e-01\n",
            " 4.56457327e-01 4.57458308e-01 4.58459289e-01 4.59460270e-01\n",
            " 4.60461251e-01 4.61462232e-01 4.62463213e-01 4.63464194e-01\n",
            " 4.64465175e-01 4.65466156e-01 4.66467137e-01 4.67468118e-01\n",
            " 4.68469099e-01 4.69470080e-01 4.70471061e-01 4.71472042e-01\n",
            " 4.72473023e-01 4.73474004e-01 4.74474985e-01 4.75475966e-01\n",
            " 4.76476947e-01 4.77477928e-01 4.78478909e-01 4.79479890e-01\n",
            " 4.80480871e-01 4.81481852e-01 4.82482833e-01 4.83483814e-01\n",
            " 4.84484795e-01 4.85485776e-01 4.86486757e-01 4.87487738e-01\n",
            " 4.88488719e-01 4.89489700e-01 4.90490681e-01 4.91491662e-01\n",
            " 4.92492643e-01 4.93493624e-01 4.94494605e-01 4.95495586e-01\n",
            " 4.96496567e-01 4.97497548e-01 4.98498529e-01 4.99499510e-01\n",
            " 5.00500490e-01 5.01501471e-01 5.02502452e-01 5.03503433e-01\n",
            " 5.04504414e-01 5.05505395e-01 5.06506376e-01 5.07507357e-01\n",
            " 5.08508338e-01 5.09509319e-01 5.10510300e-01 5.11511281e-01\n",
            " 5.12512262e-01 5.13513243e-01 5.14514224e-01 5.15515205e-01\n",
            " 5.16516186e-01 5.17517167e-01 5.18518148e-01 5.19519129e-01\n",
            " 5.20520110e-01 5.21521091e-01 5.22522072e-01 5.23523053e-01\n",
            " 5.24524034e-01 5.25525015e-01 5.26525996e-01 5.27526977e-01\n",
            " 5.28527958e-01 5.29528939e-01 5.30529920e-01 5.31530901e-01\n",
            " 5.32531882e-01 5.33532863e-01 5.34533844e-01 5.35534825e-01\n",
            " 5.36535806e-01 5.37536787e-01 5.38537768e-01 5.39538749e-01\n",
            " 5.40539730e-01 5.41540711e-01 5.42541692e-01 5.43542673e-01\n",
            " 5.44543654e-01 5.45544635e-01 5.46545616e-01 5.47546597e-01\n",
            " 5.48547578e-01 5.49548559e-01 5.50549540e-01 5.51550521e-01\n",
            " 5.52551502e-01 5.53552482e-01 5.54553463e-01 5.55554444e-01\n",
            " 5.56555425e-01 5.57556406e-01 5.58557387e-01 5.59558368e-01\n",
            " 5.60559349e-01 5.61560330e-01 5.62561311e-01 5.63562292e-01\n",
            " 5.64563273e-01 5.65564254e-01 5.66565235e-01 5.67566216e-01\n",
            " 5.68567197e-01 5.69568178e-01 5.70569159e-01 5.71570140e-01\n",
            " 5.72571121e-01 5.73572102e-01 5.74573083e-01 5.75574064e-01\n",
            " 5.76575045e-01 5.77576026e-01 5.78577007e-01 5.79577988e-01\n",
            " 5.80578969e-01 5.81579950e-01 5.82580931e-01 5.83581912e-01\n",
            " 5.84582893e-01 5.85583874e-01 5.86584855e-01 5.87585836e-01\n",
            " 5.88586817e-01 5.89587798e-01 5.90588779e-01 5.91589760e-01\n",
            " 5.92590741e-01 5.93591722e-01 5.94592703e-01 5.95593684e-01\n",
            " 5.96594665e-01 5.97595646e-01 5.98596627e-01 5.99597608e-01\n",
            " 6.00598589e-01 6.01599570e-01 6.02600551e-01 6.03601532e-01\n",
            " 6.04602513e-01 6.05603493e-01 6.06604474e-01 6.07605455e-01\n",
            " 6.08606436e-01 6.09607417e-01 6.10608398e-01 6.11609379e-01\n",
            " 6.12610360e-01 6.13611341e-01 6.14612322e-01 6.15613303e-01\n",
            " 6.16614284e-01 6.17615265e-01 6.18616246e-01 6.19617227e-01\n",
            " 6.20618208e-01 6.21619189e-01 6.22620170e-01 6.23621151e-01\n",
            " 6.24622132e-01 6.25623113e-01 6.26624094e-01 6.27625075e-01\n",
            " 6.28626056e-01 6.29627037e-01 6.30628018e-01 6.31628999e-01\n",
            " 6.32629980e-01 6.33630961e-01 6.34631942e-01 6.35632923e-01\n",
            " 6.36633904e-01 6.37634885e-01 6.38635866e-01 6.39636847e-01\n",
            " 6.40637828e-01 6.41638809e-01 6.42639790e-01 6.43640771e-01\n",
            " 6.44641752e-01 6.45642733e-01 6.46643714e-01 6.47644695e-01\n",
            " 6.48645676e-01 6.49646657e-01 6.50647638e-01 6.51648619e-01\n",
            " 6.52649600e-01 6.53650581e-01 6.54651562e-01 6.55652543e-01\n",
            " 6.56653524e-01 6.57654505e-01 6.58655485e-01 6.59656466e-01\n",
            " 6.60657447e-01 6.61658428e-01 6.62659409e-01 6.63660390e-01\n",
            " 6.64661371e-01 6.65662352e-01 6.66663333e-01 6.67664314e-01\n",
            " 6.68665295e-01 6.69666276e-01 6.70667257e-01 6.71668238e-01\n",
            " 6.72669219e-01 6.73670200e-01 6.74671181e-01 6.75672162e-01\n",
            " 6.76673143e-01 6.77674124e-01 6.78675105e-01 6.79676086e-01\n",
            " 6.80677067e-01 6.81678048e-01 6.82679029e-01 6.83680010e-01\n",
            " 6.84680991e-01 6.85681972e-01 6.86682953e-01 6.87683934e-01\n",
            " 6.88684915e-01 6.89685896e-01 6.90686877e-01 6.91687858e-01\n",
            " 6.92688839e-01 6.93689820e-01 6.94690801e-01 6.95691782e-01\n",
            " 6.96692763e-01 6.97693744e-01 6.98694725e-01 6.99695706e-01\n",
            " 7.00696687e-01 7.01697668e-01 7.02698649e-01 7.03699630e-01\n",
            " 7.04700611e-01 7.05701592e-01 7.06702573e-01 7.07703554e-01\n",
            " 7.08704535e-01 7.09705516e-01 7.10706496e-01 7.11707477e-01\n",
            " 7.12708458e-01 7.13709439e-01 7.14710420e-01 7.15711401e-01\n",
            " 7.16712382e-01 7.17713363e-01 7.18714344e-01 7.19715325e-01\n",
            " 7.20716306e-01 7.21717287e-01 7.22718268e-01 7.23719249e-01\n",
            " 7.24720230e-01 7.25721211e-01 7.26722192e-01 7.27723173e-01\n",
            " 7.28724154e-01 7.29725135e-01 7.30726116e-01 7.31727097e-01\n",
            " 7.32728078e-01 7.33729059e-01 7.34730040e-01 7.35731021e-01\n",
            " 7.36732002e-01 7.37732983e-01 7.38733964e-01 7.39734945e-01\n",
            " 7.40735926e-01 7.41736907e-01 7.42737888e-01 7.43738869e-01\n",
            " 7.44739850e-01 7.45740831e-01 7.46741812e-01 7.47742793e-01\n",
            " 7.48743774e-01 7.49744755e-01 7.50745736e-01 7.51746717e-01\n",
            " 7.52747698e-01 7.53748679e-01 7.54749660e-01 7.55750641e-01\n",
            " 7.56751622e-01 7.57752603e-01 7.58753584e-01 7.59754565e-01\n",
            " 7.60755546e-01 7.61756527e-01 7.62757508e-01 7.63758488e-01\n",
            " 7.64759469e-01 7.65760450e-01 7.66761431e-01 7.67762412e-01\n",
            " 7.68763393e-01 7.69764374e-01 7.70765355e-01 7.71766336e-01\n",
            " 7.72767317e-01 7.73768298e-01 7.74769279e-01 7.75770260e-01\n",
            " 7.76771241e-01 7.77772222e-01 7.78773203e-01 7.79774184e-01\n",
            " 7.80775165e-01 7.81776146e-01 7.82777127e-01 7.83778108e-01\n",
            " 7.84779089e-01 7.85780070e-01 7.86781051e-01 7.87782032e-01\n",
            " 7.88783013e-01 7.89783994e-01 7.90784975e-01 7.91785956e-01\n",
            " 7.92786937e-01 7.93787918e-01 7.94788899e-01 7.95789880e-01\n",
            " 7.96790861e-01 7.97791842e-01 7.98792823e-01 7.99793804e-01\n",
            " 8.00794785e-01 8.01795766e-01 8.02796747e-01 8.03797728e-01\n",
            " 8.04798709e-01 8.05799690e-01 8.06800671e-01 8.07801652e-01\n",
            " 8.08802633e-01 8.09803614e-01 8.10804595e-01 8.11805576e-01\n",
            " 8.12806557e-01 8.13807538e-01 8.14808519e-01 8.15809499e-01\n",
            " 8.16810480e-01 8.17811461e-01 8.18812442e-01 8.19813423e-01\n",
            " 8.20814404e-01 8.21815385e-01 8.22816366e-01 8.23817347e-01\n",
            " 8.24818328e-01 8.25819309e-01 8.26820290e-01 8.27821271e-01\n",
            " 8.28822252e-01 8.29823233e-01 8.30824214e-01 8.31825195e-01\n",
            " 8.32826176e-01 8.33827157e-01 8.34828138e-01 8.35829119e-01\n",
            " 8.36830100e-01 8.37831081e-01 8.38832062e-01 8.39833043e-01\n",
            " 8.40834024e-01 8.41835005e-01 8.42835986e-01 8.43836967e-01\n",
            " 8.44837948e-01 8.45838929e-01 8.46839910e-01 8.47840891e-01\n",
            " 8.48841872e-01 8.49842853e-01 8.50843834e-01 8.51844815e-01\n",
            " 8.52845796e-01 8.53846777e-01 8.54847758e-01 8.55848739e-01\n",
            " 8.56849720e-01 8.57850701e-01 8.58851682e-01 8.59852663e-01\n",
            " 8.60853644e-01 8.61854625e-01 8.62855606e-01 8.63856587e-01\n",
            " 8.64857568e-01 8.65858549e-01 8.66859530e-01 8.67860511e-01\n",
            " 8.68861491e-01 8.69862472e-01 8.70863453e-01 8.71864434e-01\n",
            " 8.72865415e-01 8.73866396e-01 8.74867377e-01 8.75868358e-01\n",
            " 8.76869339e-01 8.77870320e-01 8.78871301e-01 8.79872282e-01\n",
            " 8.80873263e-01 8.81874244e-01 8.82875225e-01 8.83876206e-01\n",
            " 8.84877187e-01 8.85878168e-01 8.86879149e-01 8.87880130e-01\n",
            " 8.88881111e-01 8.89882092e-01 8.90883073e-01 8.91884054e-01\n",
            " 8.92885035e-01 8.93886016e-01 8.94886997e-01 8.95887978e-01\n",
            " 8.96888959e-01 8.97889940e-01 8.98890921e-01 8.99891902e-01\n",
            " 9.00892883e-01 9.01893864e-01 9.02894845e-01 9.03895826e-01\n",
            " 9.04896807e-01 9.05897788e-01 9.06898769e-01 9.07899750e-01\n",
            " 9.08900731e-01 9.09901712e-01 9.10902693e-01 9.11903674e-01\n",
            " 9.12904655e-01 9.13905636e-01 9.14906617e-01 9.15907598e-01\n",
            " 9.16908579e-01 9.17909560e-01 9.18910541e-01 9.19911522e-01\n",
            " 9.20912503e-01 9.21913483e-01 9.22914464e-01 9.23915445e-01\n",
            " 9.24916426e-01 9.25917407e-01 9.26918388e-01 9.27919369e-01\n",
            " 9.28920350e-01 9.29921331e-01 9.30922312e-01 9.31923293e-01\n",
            " 9.32924274e-01 9.33925255e-01 9.34926236e-01 9.35927217e-01\n",
            " 9.36928198e-01 9.37929179e-01 9.38930160e-01 9.39931141e-01\n",
            " 9.40932122e-01 9.41933103e-01 9.42934084e-01 9.43935065e-01\n",
            " 9.44936046e-01 9.45937027e-01 9.46938008e-01 9.47938989e-01\n",
            " 9.48939970e-01 9.49940951e-01 9.50941932e-01 9.51942913e-01\n",
            " 9.52943894e-01 9.53944875e-01 9.54945856e-01 9.55946837e-01\n",
            " 9.56947818e-01 9.57948799e-01 9.58949780e-01 9.59950761e-01\n",
            " 9.60951742e-01 9.61952723e-01 9.62953704e-01 9.63954685e-01\n",
            " 9.64955666e-01 9.65956647e-01 9.66957628e-01 9.67958609e-01\n",
            " 9.68959590e-01 9.69960571e-01 9.70961552e-01 9.71962533e-01\n",
            " 9.72963514e-01 9.73964494e-01 9.74965475e-01 9.75966456e-01\n",
            " 9.76967437e-01 9.77968418e-01 9.78969399e-01 9.79970380e-01\n",
            " 9.80971361e-01 9.81972342e-01 9.82973323e-01 9.83974304e-01\n",
            " 9.84975285e-01 9.85976266e-01 9.86977247e-01 9.87978228e-01\n",
            " 9.88979209e-01 9.89980190e-01 9.90981171e-01 9.91982152e-01\n",
            " 9.92983133e-01 9.93984114e-01 9.94985095e-01 9.95986076e-01\n",
            " 9.96987057e-01 9.97988038e-01 9.98989019e-01 9.99990000e-01]\n",
            "----------------\n",
            "[-195.7197629  -117.24921505 -105.55300582  -98.69129772  -93.81782769\n",
            "  -90.0358765   -86.9450804   -84.33157889  -82.06759959  -80.07067275\n",
            "  -78.28446084  -76.66876512  -75.19389515  -73.83729795  -72.58143899\n",
            "  -71.41241555  -70.31901817  -69.29207702  -68.32399519  -67.40840838\n",
            "  -66.53993184  -65.7139691   -64.92656529  -64.17429298  -63.45416239\n",
            "  -62.76354989  -62.10014058  -61.46188165  -60.84694424  -60.25369204\n",
            "  -59.68065515  -59.12650826  -58.59005228  -58.07019882  -57.56595693\n",
            "  -57.07642187  -56.60076533  -56.13822708  -55.68810774  -55.24976238\n",
            "  -54.82259508  -54.40605405  -53.9996274   -53.60283937  -53.21524698\n",
            "  -52.83643716  -52.46602405  -52.10364667  -51.74896686  -51.40166737\n",
            "  -51.06145018  -50.72803496  -50.40115772  -50.08056956  -49.76603552\n",
            "  -49.45733358  -49.15425374  -48.85659711  -48.56417522  -48.27680923\n",
            "  -47.99432934  -47.71657416  -47.44339017  -47.17463122  -46.91015808\n",
            "  -46.64983797  -46.3935442   -46.14115581  -45.8925572   -45.64763784\n",
            "  -45.40629197  -45.16841832  -44.93391989  -44.70270368  -44.47468049\n",
            "  -44.2497647   -44.02787411  -43.80892974  -43.59285566  -43.37957884\n",
            "  -43.16902902  -42.96113855  -42.75584226  -42.55307737  -42.35278334\n",
            "  -42.15490179  -41.95937638  -41.76615273  -41.57517833  -41.38640243\n",
            "  -41.199776    -41.01525162  -40.83278346  -40.65232713  -40.47383969\n",
            "  -40.29727956  -40.12260647  -39.94978139  -39.7787665   -39.60952513\n",
            "  -39.44202173  -39.27622178  -39.1120918   -38.9495993   -38.78871272\n",
            "  -38.62940139  -38.47163555  -38.31538624  -38.16062534  -38.00732548\n",
            "  -37.85546007  -37.70500321  -37.55592973  -37.4082151   -37.26183545\n",
            "  -37.11676756  -36.97298877  -36.83047703  -36.68921086  -36.5491693\n",
            "  -36.41033194  -36.27267886  -36.13619065  -36.00084835  -35.86663348\n",
            "  -35.73352801  -35.60151433  -35.47057525  -35.34069398  -35.21185413\n",
            "  -35.08403969  -34.95723502  -34.83142483  -34.70659417  -34.58272844\n",
            "  -34.45981337  -34.33783499  -34.21677964  -34.09663397  -33.97738492\n",
            "  -33.85901968  -33.74152576  -33.6248909   -33.50910312  -33.39415067\n",
            "  -33.28002206  -33.16670603  -33.05419155  -32.94246784  -32.83152428\n",
            "  -32.72135053  -32.61193641  -32.50327197  -32.39534742  -32.28815321\n",
            "  -32.18167993  -32.07591839  -31.97085954  -31.86649454  -31.76281468\n",
            "  -31.65981145  -31.55747647  -31.45580154  -31.35477858  -31.2543997\n",
            "  -31.15465712  -31.05554321  -30.95705049  -30.85917159  -30.76189931\n",
            "  -30.66522654  -30.56914631  -30.47365177  -30.3787362   -30.28439298\n",
            "  -30.19061561  -30.09739771  -30.00473299  -29.9126153   -29.82103854\n",
            "  -29.72999677  -29.63948412  -29.5494948   -29.46002316  -29.3710636\n",
            "  -29.28261064  -29.19465887  -29.10720298  -29.02023775  -28.93375801\n",
            "  -28.84775872  -28.76223488  -28.67718158  -28.59259401  -28.5084674\n",
            "  -28.42479708  -28.34157843  -28.25880692  -28.17647807  -28.0945875\n",
            "  -28.01313085  -27.93210387  -27.85150234  -27.77132213  -27.69155914\n",
            "  -27.61220937  -27.53326883  -27.45473364  -27.37659994  -27.29886394\n",
            "  -27.2215219   -27.14457013  -27.068005    -26.99182293  -26.91602039\n",
            "  -26.84059391  -26.76554003  -26.6908554   -26.61653665  -26.54258051\n",
            "  -26.46898373  -26.3957431   -26.32285546  -26.25031771  -26.17812677\n",
            "  -26.1062796   -26.03477321  -25.96360466  -25.89277102  -25.82226944\n",
            "  -25.75209705  -25.68225108  -25.61272875  -25.54352735  -25.47464417\n",
            "  -25.40607656  -25.3378219   -25.2698776   -25.2022411   -25.13490987\n",
            "  -25.06788144  -25.00115332  -24.9347231   -24.86858838  -24.80274678\n",
            "  -24.73719596  -24.67193362  -24.60695746  -24.54226523  -24.47785471\n",
            "  -24.41372369  -24.34987     -24.28629148  -24.22298603  -24.15995153\n",
            "  -24.09718592  -24.03468715  -23.9724532   -23.91048206  -23.84877175\n",
            "  -23.78732034  -23.72612588  -23.66518646  -23.60450021  -23.54406525\n",
            "  -23.48387975  -23.42394188  -23.36424983  -23.30480183  -23.24559613\n",
            "  -23.18663097  -23.12790463  -23.06941542  -23.01116164  -22.95314165\n",
            "  -22.89535378  -22.83779641  -22.78046794  -22.72336676  -22.66649131\n",
            "  -22.60984003  -22.55341137  -22.49720381  -22.44121585  -22.38544599\n",
            "  -22.32989275  -22.27455468  -22.21943034  -22.16451828  -22.10981711\n",
            "  -22.05532541  -22.00104181  -21.94696494  -21.89309343  -21.83942596\n",
            "  -21.78596118  -21.73269779  -21.67963449  -21.62676999  -21.57410301\n",
            "  -21.5216323   -21.46935661  -21.4172747   -21.36538534  -21.31368734\n",
            "  -21.26217949  -21.2108606   -21.1597295   -21.10878502  -21.05802603\n",
            "  -21.00745137  -20.95705992  -20.90685055  -20.85682218  -20.80697369\n",
            "  -20.757304    -20.70781205  -20.65849676  -20.60935708  -20.56039198\n",
            "  -20.51160041  -20.46298135  -20.41453379  -20.36625673  -20.31814917\n",
            "  -20.27021012  -20.22243862  -20.17483369  -20.12739438  -20.08011974\n",
            "  -20.03300883  -19.98606073  -19.9392745   -19.89264923  -19.84618403\n",
            "  -19.79987799  -19.75373023  -19.70773987  -19.66190604  -19.61622786\n",
            "  -19.57070449  -19.52533508  -19.48011879  -19.43505479  -19.39014224\n",
            "  -19.34538034  -19.30076828  -19.25630524  -19.21199044  -19.16782308\n",
            "  -19.12380239  -19.07992759  -19.03619791  -18.9926126   -18.94917089\n",
            "  -18.90587204  -18.86271532  -18.81969998  -18.77682529  -18.73409055\n",
            "  -18.69149502  -18.64903801  -18.60671881  -18.56453673  -18.52249106\n",
            "  -18.48058114  -18.43880628  -18.3971658   -18.35565905  -18.31428535\n",
            "  -18.27304406  -18.23193452  -18.1909561   -18.15010814  -18.10939003\n",
            "  -18.06880112  -18.0283408   -17.98800845  -17.94780346  -17.90772521\n",
            "  -17.86777312  -17.82794658  -17.788245    -17.74866779  -17.70921438\n",
            "  -17.66988418  -17.63067662  -17.59159114  -17.55262717  -17.51378415\n",
            "  -17.47506153  -17.43645877  -17.39797531  -17.35961062  -17.32136416\n",
            "  -17.28323541  -17.24522383  -17.2073289   -17.1695501   -17.13188693\n",
            "  -17.09433887  -17.05690541  -17.01958606  -16.98238032  -16.94528769\n",
            "  -16.90830769  -16.87143982  -16.83468362  -16.7980386   -16.76150428\n",
            "  -16.7250802   -16.6887659   -16.65256091  -16.61646477  -16.58047703\n",
            "  -16.54459723  -16.50882494  -16.4731597   -16.43760107  -16.40214863\n",
            "  -16.36680193  -16.33156055  -16.29642405  -16.26139203  -16.22646405\n",
            "  -16.1916397   -16.15691857  -16.12230025  -16.08778433  -16.05337042\n",
            "  -16.0190581   -15.98484698  -15.95073668  -15.91672679  -15.88281694\n",
            "  -15.84900674  -15.8152958   -15.78168375  -15.74817022  -15.71475483\n",
            "  -15.68143721  -15.64821699  -15.61509382  -15.58206733  -15.54913717\n",
            "  -15.51630298  -15.4835644   -15.4509211   -15.41837272  -15.38591892\n",
            "  -15.35355935  -15.32129369  -15.28912159  -15.25704272  -15.22505676\n",
            "  -15.19316337  -15.16136222  -15.12965301  -15.0980354   -15.06650908\n",
            "  -15.03507374  -15.00372906  -14.97247473  -14.94131045  -14.91023591\n",
            "  -14.87925081  -14.84835485  -14.81754773  -14.78682915  -14.75619883\n",
            "  -14.72565647  -14.69520179  -14.66483449  -14.6345543   -14.60436094\n",
            "  -14.57425412  -14.54423357  -14.51429901  -14.48445018  -14.4546868\n",
            "  -14.4250086   -14.39541532  -14.3659067   -14.33648247  -14.30714237\n",
            "  -14.27788616  -14.24871357  -14.21962434  -14.19061824  -14.16169501\n",
            "  -14.1328544   -14.10409618  -14.07542009  -14.04682589  -14.01831336\n",
            "  -13.98988225  -13.96153233  -13.93326336  -13.90507512  -13.87696737\n",
            "  -13.84893989  -13.82099246  -13.79312485  -13.76533684  -13.73762822\n",
            "  -13.70999876  -13.68244825  -13.65497648  -13.62758323  -13.6002683\n",
            "  -13.57303148  -13.54587256  -13.51879134  -13.49178761  -13.46486119\n",
            "  -13.43801185  -13.41123942  -13.38454369  -13.35792448  -13.33138158\n",
            "  -13.30491482  -13.278524    -13.25220893  -13.22596944  -13.19980533\n",
            "  -13.17371643  -13.14770256  -13.12176354  -13.09589919  -13.07010934\n",
            "  -13.04439382  -13.01875246  -12.99318508  -12.96769152  -12.94227161\n",
            "  -12.91692519  -12.8916521   -12.86645217  -12.84132524  -12.81627116\n",
            "  -12.79128978  -12.76638092  -12.74154446  -12.71678022  -12.69208806\n",
            "  -12.66746784  -12.64291941  -12.61844261  -12.59403732  -12.56970337\n",
            "  -12.54544065  -12.521249    -12.49712829  -12.47307839  -12.44909915\n",
            "  -12.42519045  -12.40135216  -12.37758414  -12.35388627  -12.33025842\n",
            "  -12.30670047  -12.2832123   -12.25979377  -12.23644477  -12.21316519\n",
            "  -12.1899549   -12.16681379  -12.14374175  -12.12073865  -12.0978044\n",
            "  -12.07493887  -12.05214197  -12.02941359  -12.00675361  -11.98416194\n",
            "  -11.96163847  -11.93918311  -11.91679575  -11.89447629  -11.87222465\n",
            "  -11.85004072  -11.8279244   -11.80587562  -11.78389428  -11.76198028\n",
            "  -11.74013355  -11.71835399  -11.69664153  -11.67499607  -11.65341754\n",
            "  -11.63190585  -11.61046094  -11.58908271  -11.5677711   -11.54652603\n",
            "  -11.52534743  -11.50423523  -11.48318935  -11.46220974  -11.44129632\n",
            "  -11.42044902  -11.39966779  -11.37895256  -11.35830327  -11.33771986\n",
            "  -11.31720228  -11.29675047  -11.27636437  -11.25604392  -11.23578909\n",
            "  -11.21559982  -11.19547605  -11.17541775  -11.15542486  -11.13549735\n",
            "  -11.11563517  -11.09583828  -11.07610663  -11.0564402   -11.03683895\n",
            "  -11.01730284  -10.99783183  -10.9784259   -10.95908502  -10.93980915\n",
            "  -10.92059827  -10.90145236  -10.88237139  -10.86335534  -10.84440419\n",
            "  -10.82551792  -10.80669651  -10.78793995  -10.76924822  -10.75062131\n",
            "  -10.73205921  -10.7135619   -10.69512939  -10.67676167  -10.65845873\n",
            "  -10.64022057  -10.62204719  -10.60393858  -10.58589476  -10.56791573\n",
            "  -10.55000148  -10.53215204  -10.51436741  -10.4966476   -10.47899262\n",
            "  -10.46140249  -10.44387722  -10.42641684  -10.40902136  -10.3916908\n",
            "  -10.37442519  -10.35722456  -10.34008892  -10.32301832  -10.30601278\n",
            "  -10.28907233  -10.27219701  -10.25538686  -10.23864191  -10.22196221\n",
            "  -10.20534779  -10.1887987   -10.172315    -10.15589672  -10.13954391\n",
            "  -10.12325664  -10.10703495  -10.0908789   -10.07478855  -10.05876395\n",
            "  -10.04280518  -10.0269123   -10.01108537   -9.99532446   -9.97962964\n",
            "   -9.964001     -9.94843859   -9.93294251   -9.91751283   -9.90214963\n",
            "   -9.88685299   -9.87162301   -9.85645978   -9.84136338   -9.82633391\n",
            "   -9.81137146   -9.79647614   -9.78164804   -9.76688728   -9.75219394\n",
            "   -9.73756815   -9.72301001   -9.70851964   -9.69409715   -9.67974267\n",
            "   -9.66545631   -9.6512382    -9.63708846   -9.62300722   -9.60899462\n",
            "   -9.59505079   -9.58117587   -9.56737      -9.55363332   -9.53996597\n",
            "   -9.52636812   -9.5128399    -9.49938148   -9.48599301   -9.47267466\n",
            "   -9.45942658   -9.44624895   -9.43314193   -9.4201057    -9.40714044\n",
            "   -9.39424633   -9.38142355   -9.36867228   -9.35599272   -9.34338506\n",
            "   -9.33084949   -9.31838623   -9.30599547   -9.29367742   -9.28143229\n",
            "   -9.2692603    -9.25716166   -9.24513661   -9.23318535   -9.22130814\n",
            "   -9.20950519   -9.19777676   -9.18612307   -9.17454438   -9.16304094\n",
            "   -9.15161301   -9.14026084   -9.12898469   -9.11778484   -9.10666155\n",
            "   -9.09561511   -9.08464579   -9.07375389   -9.06293968   -9.05220348\n",
            "   -9.04154557   -9.03096627   -9.02046588   -9.01004473   -8.99970312\n",
            "   -8.98944139   -8.97925987   -8.9691589    -8.95913881   -8.94919996\n",
            "   -8.93934269   -8.92956738   -8.91987437   -8.91026405   -8.90073679\n",
            "   -8.89129298   -8.88193299   -8.87265723   -8.86346611   -8.85436002\n",
            "   -8.84533938   -8.83640462   -8.82755616   -8.81879444   -8.8101199\n",
            "   -8.80153299   -8.79303417   -8.7846239    -8.77630266   -8.76807092\n",
            "   -8.75992917   -8.75187791   -8.74391764   -8.73604887   -8.72827213\n",
            "   -8.72058794   -8.71299683   -8.70549937   -8.69809609   -8.69078757\n",
            "   -8.68357437   -8.67645709   -8.66943632   -8.66251265   -8.65568671\n",
            "   -8.64895911   -8.64233049   -8.63580149   -8.62937277   -8.62304499\n",
            "   -8.61681884   -8.610695     -8.60467416   -8.59875706   -8.5929444\n",
            "   -8.58723693   -8.58163539   -8.57614056   -8.5707532    -8.56547411\n",
            "   -8.56030408   -8.55524394   -8.55029452   -8.54545667   -8.54073124\n",
            "   -8.53611912   -8.53162119   -8.52723836   -8.52297156   -8.51882173\n",
            "   -8.51478983   -8.51087684   -8.50708373   -8.50341154   -8.49986128\n",
            "   -8.49643401   -8.4931308    -8.48995273   -8.48690091   -8.48397647\n",
            "   -8.48118057   -8.47851436   -8.47597906   -8.47357587   -8.47130604\n",
            "   -8.46917084   -8.46717154   -8.46530947   -8.46358596   -8.46200239\n",
            "   -8.46056014   -8.45926064   -8.45810533   -8.45709569   -8.45623324\n",
            "   -8.45551951   -8.45495607   -8.45454453   -8.45428651   -8.45418369\n",
            "   -8.45423778   -8.4544505    -8.45482365   -8.45535903   -8.4560585\n",
            "   -8.45692395   -8.45795731   -8.45916056   -8.46053572   -8.46208486\n",
            "   -8.46381007   -8.46571353   -8.46779742   -8.47006401   -8.47251561\n",
            "   -8.47515457   -8.4779833    -8.48100428   -8.48422002   -8.48763313\n",
            "   -8.49124623   -8.49506206   -8.49908337   -8.50331302   -8.50775391\n",
            "   -8.51240903   -8.51728144   -8.52237427   -8.52769074   -8.53323413\n",
            "   -8.53900784   -8.54501531   -8.55126012   -8.5577459    -8.56447641\n",
            "   -8.57145548   -8.57868706   -8.58617521   -8.5939241    -8.60193799\n",
            "   -8.61022129   -8.61877853   -8.62761434   -8.63673351   -8.64614096\n",
            "   -8.65584175   -8.66584108   -8.67614433   -8.68675702   -8.69768483\n",
            "   -8.70893363   -8.72050946   -8.73241856   -8.74466734   -8.75726244\n",
            "   -8.77021071   -8.78351919   -8.7971952    -8.81124625   -8.82568014\n",
            "   -8.84050492   -8.8557289    -8.8713607    -8.88740923   -8.90388371\n",
            "   -8.92079369   -8.93814908   -8.95596013   -8.97423749   -8.99299218\n",
            "   -9.01223568   -9.03197987   -9.05223711   -9.07302024   -9.09434264\n",
            "   -9.11621818   -9.13866133   -9.16168717   -9.18531139   -9.20955036\n",
            "   -9.23442116   -9.25994162   -9.28613036   -9.31300684   -9.34059143\n",
            "   -9.36890544   -9.39797117   -9.42781201   -9.45845251   -9.48991841\n",
            "   -9.52223676   -9.555436     -9.58954606   -9.62459846   -9.66062642\n",
            "   -9.69766499   -9.73575121   -9.7749242    -9.81522539   -9.85669867\n",
            "   -9.89939059   -9.94335058   -9.98863118  -10.03528835  -10.08338173\n",
            "  -10.13297498  -10.18413615  -10.2369381   -10.29145897  -10.34778268\n",
            "  -10.40599952  -10.46620682  -10.52850973  -10.593022    -10.65986703\n",
            "  -10.72917893  -10.80110384  -10.87580138  -10.9534464   -11.03423091\n",
            "  -11.1183665   -11.20608699  -11.29765176  -11.39334953  -11.49350299\n",
            "  -11.59847438  -11.70867216  -11.82455931  -11.94666339  -12.0755892\n",
            "  -12.21203464  -12.3568108   -12.5108679   -12.67532902  -12.85153475\n",
            "  -13.04110328  -13.24601269  -13.46871638  -13.71230864  -13.98076938\n",
            "  -14.27933804  -14.61510851  -14.99802264  -15.4426339   -15.97149033\n",
            "  -16.62233197  -17.46581121  -18.66017261  -20.70769782  -34.5389464 ]\n",
            "849\n",
            "0.8498428528528528\n"
          ]
        },
        {
          "output_type": "display_data",
          "data": {
            "text/plain": [
              "<Figure size 864x576 with 1 Axes>"
            ],
            "image/png": "[encoded data removed]"
          },
          "metadata": {
            "needs_background": "light"
          }
        }
      ],
      "source": [
        "plt.figure(figsize=[12, 8])\n",
        "x = np.linspace(1e-5, 1-1e-5, 1000)\n",
        "\n",
        "# Plot the prior distribution\n",
        "log_prior = compute_log_prior(x, a, b)\n",
        "prior = np.exp(log_prior)\n",
        "plt.plot(x, prior, label='prior')\n",
        "\n",
        "# Plot the likelihood\n",
        "log_likelihood = compute_log_likelihood(x, samples)\n",
        "likelihood = np.exp(log_likelihood)\n",
        "int_likelihood = np.mean(likelihood)\n",
        "# We rescale the likelihood - otherwise it would be impossible to see in the plot\n",
        "rescaled_likelihood = likelihood / int_likelihood\n",
        "plt.plot(x, rescaled_likelihood, label='scaled likelihood', color='purple')\n",
        "\n",
        "# Plot the posterior distribution\n",
        "log_posterior = compute_log_posterior(x, samples, a, b)\n",
        "posterior = np.exp(log_posterior)\n",
        "plt.plot(x, posterior, label='posterior')\n",
        "\n",
        "# Visualize theta_mle\n",
        "theta_mle = compute_theta_mle(samples)\n",
        "ymax = np.exp(compute_log_likelihood(np.array([theta_mle]), samples)) / int_likelihood\n",
        "plt.vlines(x=theta_mle, ymin=0.00, ymax=ymax, linestyle='dashed', color='purple', label=r'$\\theta_{MLE}$')\n",
        "\n",
        "\n",
        "# Visualize theta_map\n",
        "theta_map = compute_theta_map(samples, a, b)\n",
        "ymax = np.exp(compute_log_posterior(np.array([theta_map]), samples, a, b))\n",
        "plt.vlines(x=theta_map, ymin=0.00, ymax=ymax, linestyle='dashed', color='orange', label=r'$\\theta_{MAP}$')\n",
        "\n",
        "plt.xlabel(r'$\\theta$', fontsize='xx-large')\n",
        "plt.legend(fontsize='xx-large')\n",
        "plt.show()"
      ]
    }
  ],
  "metadata": {
    "kernelspec": {
      "display_name": "Python 3",
      "language": "python",
      "name": "python3"
    },
    "language_info": {
      "codemirror_mode": {
        "name": "ipython",
        "version": 3
      },
      "file_extension": ".py",
      "mimetype": "text/x-python",
      "name": "python",
      "nbconvert_exporter": "python",
      "pygments_lexer": "ipython3",
      "version": "3.7.4"
    },
    "toc": {
      "colors": {
        "hover_highlight": "#DAA520",
        "navigate_num": "#000000",
        "navigate_text": "#333333",
        "running_highlight": "#FF0000",
        "selected_highlight": "#FFD700",
        "sidebar_border": "#EEEEEE",
        "wrapper_background": "#FFFFFF"
      },
      "moveMenuLeft": true,
      "nav_menu": {
        "height": "207px",
        "width": "252px"
      },
      "navigate_menu": true,
      "number_sections": true,
      "sideBar": true,
      "threshold": 4,
      "toc_cell": false,
      "toc_section_display": "block",
      "toc_window_display": false,
      "widenNotebook": false
    },
    "colab": {
      "provenance": [],
      "include_colab_link": true
    }
  },
  "nbformat": 4,
  "nbformat_minor": 0
}