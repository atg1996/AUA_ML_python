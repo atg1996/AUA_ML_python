{
  "cells": [
    {
      "cell_type": "markdown",
      "metadata": {
        "id": "view-in-github",
        "colab_type": "text"
      },
      "source": [
        "<a href=\"https://colab.research.google.com/github/atg1996/python-tasks/blob/main/hw_04_notebook.ipynb\" target=\"_parent\"><img src=\"https://colab.research.google.com/assets/colab-badge.svg\" alt=\"Open In Colab\"/></a>"
      ]
    },
    {
      "cell_type": "markdown",
      "metadata": {
        "id": "5BoVtSfRf6WP"
      },
      "source": [
        "# Programming assignment: Linear regression"
      ]
    },
    {
      "cell_type": "code",
      "execution_count": 26,
      "metadata": {
        "id": "4F66IcUzf6WS"
      },
      "outputs": [],
      "source": [
        "import numpy as np\n",
        "\n",
        "from sklearn.datasets import load_boston\n",
        "from sklearn.model_selection import train_test_split"
      ]
    },
    {
      "cell_type": "markdown",
      "metadata": {
        "id": "f8ellbOpf6WT"
      },
      "source": [
        "## Your task"
      ]
    },
    {
      "cell_type": "markdown",
      "metadata": {
        "id": "APr7bko9f6WT"
      },
      "source": [
        "In this notebook code skeleton for performing linear regression is given. \n",
        "Your task is to complete the functions where required. \n",
        "You are only allowed to use built-in Python functions, as well as any `numpy` functions. No other libraries / imports are allowed."
      ]
    },
    {
      "cell_type": "markdown",
      "metadata": {
        "id": "8Gm_RN15f6WT"
      },
      "source": [
        "## Load and preprocess the data"
      ]
    },
    {
      "cell_type": "markdown",
      "metadata": {
        "id": "zxwgG0TMf6WT"
      },
      "source": [
        "I this assignment we will work with the Boston Housing Dataset.\n",
        "The data consists of 506 samples. Each sample represents a district in the city of Boston and has 13 features, such as crime rate or taxation level. The regression target is the median house price in the given district (in $1000's).\n",
        "\n",
        "More details can be found here: http://lib.stat.cmu.edu/datasets/boston"
      ]
    },
    {
      "cell_type": "code",
      "execution_count": 27,
      "metadata": {
        "id": "iEgzmT9uf6WU"
      },
      "outputs": [],
      "source": [
        "X , y = load_boston(return_X_y=True)\n",
        "\n",
        "# Add a vector of ones to the data matrix to absorb the bias term\n",
        "# (Recall slide #7 from the lecture)\n",
        "X = np.hstack([np.ones([X.shape[0], 1]), X])\n",
        "# From now on, D refers to the number of features in the AUGMENTED dataset\n",
        "#  (i.e. including the dummy '1' feature for the absorbed bias term)\n",
        "\n",
        "# Split into train and test\n",
        "test_size = 0.2\n",
        "X_train, X_test, y_train, y_test = train_test_split(X, y, test_size=test_size)"
      ]
    },
    {
      "cell_type": "markdown",
      "metadata": {
        "id": "ZRQ8092Uf6WU"
      },
      "source": [
        "## Task 1: Fit standard linear regression"
      ]
    },
    {
      "cell_type": "code",
      "execution_count": 28,
      "metadata": {
        "id": "sTSjxoFBf6WU"
      },
      "outputs": [],
      "source": [
        "def fit_least_squares(X, y):\n",
        "    \"\"\"Fit ordinary least squares model to the data.\n",
        "    \n",
        "    Parameters\n",
        "    ----------\n",
        "    X : array, shape [N, D]\n",
        "        (Augmented) feature matrix.\n",
        "    y : array, shape [N]\n",
        "        Regression targets.\n",
        "        \n",
        "    Returns\n",
        "    -------\n",
        "    w : array, shape [D]\n",
        "        Optimal regression coefficients (w[0] is the bias term).\n",
        "        \n",
        "    \"\"\"\n",
        "    # TODO\n",
        "    return np.dot(np.linalg.pinv(X), y)"
      ]
    },
    {
      "cell_type": "markdown",
      "metadata": {
        "id": "DEmN3Pwkf6WU"
      },
      "source": [
        "## Task 2: Fit ridge regression"
      ]
    },
    {
      "cell_type": "code",
      "execution_count": 29,
      "metadata": {
        "id": "RuWJc6n1f6WV"
      },
      "outputs": [],
      "source": [
        "def fit_ridge(X, y, reg_strength):\n",
        "    \"\"\"Fit ridge regression model to the data.\n",
        "    \n",
        "    Parameters\n",
        "    ----------\n",
        "    X : array, shape [N, D]\n",
        "        (Augmented) feature matrix.\n",
        "    y : array, shape [N]\n",
        "        Regression targets.\n",
        "    reg_strength : float\n",
        "        L2 regularization strength (denoted by lambda in the lecture)\n",
        "        \n",
        "    Returns\n",
        "    -------\n",
        "    w : array, shape [D]\n",
        "        Optimal regression coefficients (w[0] is the bias term).\n",
        "    \n",
        "    \"\"\"\n",
        "    # TODO\n",
        "    return np.linalg.solve(X.T @ X + reg_strength * np.eye(X.shape[1]), X.T @ y)"
      ]
    },
    {
      "cell_type": "markdown",
      "metadata": {
        "id": "fKldE46Xf6WV"
      },
      "source": [
        "## Task 3: Generate predictions for new data"
      ]
    },
    {
      "cell_type": "code",
      "execution_count": 30,
      "metadata": {
        "id": "qULmPzSJf6WV"
      },
      "outputs": [],
      "source": [
        "def predict_linear_model(X, w):\n",
        "    \"\"\"Generate predictions for the given samples.\n",
        "    \n",
        "    Parameters\n",
        "    ----------\n",
        "    X : array, shape [N, D]\n",
        "        (Augmented) feature matrix.\n",
        "    w : array, shape [D]\n",
        "        Regression coefficients.\n",
        "        \n",
        "    Returns\n",
        "    -------\n",
        "    y_pred : array, shape [N]\n",
        "        Predicted regression targets for the input data.\n",
        "        \n",
        "    \"\"\"\n",
        "    # TODO\n",
        "    return X.dot(w)"
      ]
    },
    {
      "cell_type": "markdown",
      "metadata": {
        "id": "E_M_ZNDof6WV"
      },
      "source": [
        "## Task 4: Mean squared error"
      ]
    },
    {
      "cell_type": "code",
      "execution_count": 31,
      "metadata": {
        "id": "XUSgeuFYf6WV"
      },
      "outputs": [],
      "source": [
        "def mean_squared_error(y_true, y_pred):\n",
        "    \"\"\"Compute mean squared error between true and predicted regression targets.\n",
        "    \n",
        "    Reference: `https://en.wikipedia.org/wiki/Mean_squared_error`\n",
        "    \n",
        "    Parameters\n",
        "    ----------\n",
        "    y_true : array\n",
        "        True regression targets.\n",
        "    y_pred : array\n",
        "        Predicted regression targets.\n",
        "        \n",
        "    Returns\n",
        "    -------\n",
        "    mse : float\n",
        "        Mean squared error.\n",
        "        \n",
        "    \"\"\"\n",
        "    # TODO\n",
        "    sum_squared_error = np.sum((y_true - y_pred)**2)\n",
        "    return sum_squared_error / len(y_true)"
      ]
    },
    {
      "cell_type": "markdown",
      "metadata": {
        "id": "T-oHOPFif6WW"
      },
      "source": [
        "## Compare the two models"
      ]
    },
    {
      "cell_type": "markdown",
      "metadata": {
        "id": "tgYLgdKdf6WW"
      },
      "source": [
        "The reference implementation produces \n",
        "* MSE for Least squares $\\approx$ **23.98**\n",
        "* MSE for Ridge regression $\\approx$ **21.05**\n",
        "\n",
        "You results might be slightly (i.e. $\\pm 1\\%$) different from the reference soultion due to numerical reasons."
      ]
    },
    {
      "cell_type": "code",
      "execution_count": 32,
      "metadata": {
        "colab": {
          "base_uri": "https://localhost:8080/"
        },
        "id": "VqZoannHf6WW",
        "outputId": "739a45a1-3d26-4b68-957e-0d30beb93658"
      },
      "outputs": [
        {
          "output_type": "stream",
          "name": "stdout",
          "text": [
            "MSE for Least squares = 23.96457138495685\n",
            "MSE for Ridge regression = 21.03493121591798\n"
          ]
        }
      ],
      "source": [
        "# Load the data\n",
        "np.random.seed(1234)\n",
        "X , y = load_boston(return_X_y=True)\n",
        "X = np.hstack([np.ones([X.shape[0], 1]), X])\n",
        "test_size = 0.2\n",
        "X_train, X_test, y_train, y_test = train_test_split(X, y, test_size=test_size)\n",
        "\n",
        "# Ordinary least squares regression\n",
        "w_ls = fit_least_squares(X_train, y_train)\n",
        "y_pred_ls = predict_linear_model(X_test, w_ls)\n",
        "mse_ls = mean_squared_error(y_test, y_pred_ls)\n",
        "print('MSE for Least squares = {0}'.format(mse_ls))\n",
        "\n",
        "# Ridge regression\n",
        "reg_strength = 1\n",
        "w_ridge = fit_ridge(X_train, y_train, reg_strength)\n",
        "y_pred_ridge = predict_linear_model(X_test, w_ridge)\n",
        "mse_ridge = mean_squared_error(y_test, y_pred_ridge)\n",
        "print('MSE for Ridge regression = {0}'.format(mse_ridge))"
      ]
    },
    {
      "cell_type": "code",
      "execution_count": 32,
      "metadata": {
        "id": "fCro0pqef6WX"
      },
      "outputs": [],
      "source": []
    }
  ],
  "metadata": {
    "kernelspec": {
      "display_name": "Python 3",
      "language": "python",
      "name": "python3"
    },
    "language_info": {
      "codemirror_mode": {
        "name": "ipython",
        "version": 3
      },
      "file_extension": ".py",
      "mimetype": "text/x-python",
      "name": "python",
      "nbconvert_exporter": "python",
      "pygments_lexer": "ipython3",
      "version": "3.7.4"
    },
    "toc": {
      "colors": {
        "hover_highlight": "#DAA520",
        "navigate_num": "#000000",
        "navigate_text": "#333333",
        "running_highlight": "#FF0000",
        "selected_highlight": "#FFD700",
        "sidebar_border": "#EEEEEE",
        "wrapper_background": "#FFFFFF"
      },
      "moveMenuLeft": true,
      "nav_menu": {
        "height": "48px",
        "width": "252px"
      },
      "navigate_menu": true,
      "number_sections": true,
      "sideBar": true,
      "threshold": 4,
      "toc_cell": false,
      "toc_section_display": "block",
      "toc_window_display": false,
      "widenNotebook": false
    },
    "colab": {
      "provenance": [],
      "include_colab_link": true
    }
  },
  "nbformat": 4,
  "nbformat_minor": 0
}